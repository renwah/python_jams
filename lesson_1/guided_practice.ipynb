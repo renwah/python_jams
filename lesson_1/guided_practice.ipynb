{
 "cells": [
  {
   "cell_type": "markdown",
   "metadata": {},
   "source": [
    "# Lesson 1: Guided Practice  \n",
    "\n",
    "Key learning results:\n",
    "- I understand the how to run Python code from the command line, in the interpreter, and in an Jupyter notebook.\n",
    "- I can declare a variable.\n",
    "- I feel comfortable writing various expressions.\n",
    "- I understand \"Pythonic\" code organization.\n",
    "- I recall the syntax for basic control flow statements.\n",
    "\n",
    "## Where are we?: A brief introduction to running Python code\n",
    "\n",
    "Before we actually start writing code, we need to talk about what we do with the code we're writing. Broadly, there are two ways of running Python code: line-by-line (a.k.a. interactively) or from a file. \n",
    "\n",
    "### Running code from file\n",
    "Running a file in Python is as simple as openning up a terminal/command line window, navigating to the folder containing the file, then entering the following command:\n",
    "\n",
    "```\n",
    "python3 <file_name>\n",
    "```\n",
    "\n",
    "If you only have one version of Python installed or if the default version on Python on your system is Python 3, then it is also sufficient to use this command:\n",
    "\n",
    "```\n",
    "python <file_name>\n",
    "```\n",
    "\n",
    "Using the first command, however, ensures that our code is being run in Python 3.X and not Python 2.X. While Python 3.X is the most up-to-date, Python 2.X remains popular, and the two versions aren't perfectly cross compatible. This issue likely won't come up until you start exploring different, more advanced packages available in Python.\n",
    "\n",
    "If you feel uncomfortable navigating your computer from the terminal/command line, I suggest [working through this short tutorial.](https://blog.teamtreehouse.com/introduction-to-the-mac-os-x-command-line) You don't need to become an expert, but a basic understanding of how to interface with your computer through the command line.\n",
    "\n",
    "Programs don't by default have a command line interface, and though building one out is fairly simple, it won't be covered in any of the Python Jams. Still, it's good to be aware of how to run programs from the command line.\n",
    "\n",
    "### Running code interactively\n",
    "\n",
    "Throughout these sessions, we'll be running code interactively either through IPython or through a Jupyter notebook. Both allow us to work through code line by line, evaluating our progress as we work. \n",
    "\n",
    "#### IPython\n",
    "\n",
    "To access IPython, open up the terminal/command line and run this command:\n",
    "\n",
    "```\n",
    "ipython3\n",
    "```\n",
    "\n",
    "You should see the following text appear on screen:\n",
    "\n",
    "```\n",
    "Python 3.7.3 (default, Mar 27 2019, 16:54:48) \n",
    "Type 'copyright', 'credits' or 'license' for more information\n",
    "IPython 7.5.0 -- An enhanced Interactive Python. Type '?' for help.\n",
    "```\n",
    "\n",
    "This text is followed by a prompt where you can type in Python code and see its results.\n",
    "\n",
    "#### Your first program\n",
    "\n",
    "Now that you're ready to write Python code, lets print out a simple Hello World statement. In Python, this requires a single line of code:\n",
    "\n",
    "```\n",
    "print(\"Hello, world!\")\n",
    "```\n",
    "\n",
    "Type this into the IPython window we just opened, and you should see the text ```Hello, world!``` appear below where you just typed!\n",
    "\n",
    "#### Jupyter notebooks\n",
    "\n",
    "Another place where we can run code iteractively is a Jupyter notebook. Indeed, this document you're reading right now is a Jupyter notebook. Running code in a Jupyter notebook allows you to combine text (in Markdown), plots, and other media alongside your code. This ability can be helpful if you're using Python to produce an analysis you intend to send to others or if you would like to explain the code you're writing as you're writing it. Furthermore, Jupyter notebooks also allow us to export \n",
    "\n",
    "Below this text, there is an empty \"code\" cell where you can write and run Python code within this document. Try typing our Hello, World! statement in that cell and then run it by either pressing Shift + Return or pressing the run button in the navigation bar."
   ]
  },
  {
   "cell_type": "code",
   "execution_count": 48,
   "metadata": {},
   "outputs": [
    {
     "name": "stdout",
     "output_type": "stream",
     "text": [
      "Hello, World!\n"
     ]
    }
   ],
   "source": [
    "print('Hello, World!')"
   ]
  },
  {
   "cell_type": "markdown",
   "metadata": {},
   "source": [
    "The majority of Python Jams will be in Jupyter notebooks, however, you should also try running some code in IPython so that you feel comfortable with it. When working by yourself on a project, you'll likely find it easier to work in IPython than in Jupyter notebooks.\n",
    "\n",
    "## Basics of Python Programming\n",
    "\n",
    "The topics covered in this section may seem elementary, but are essential building blocks for writing or debugging more advanced programs. While the section will be focused on how these topics are implemented in Python, these elements will be available in any programming lanague, though possibly with a slightly different impelementation.\n",
    "\n",
    "### Variables\n",
    "\n",
    "Variables are symbolic links that allow you to keep track of information in your machine's memory while a program runs. When defining a variable, you give it a name that you will use later on to retrieve or update the information stored in that variable.\n",
    "\n",
    "In Python, we define variables like this:\n",
    "\n",
    "```\n",
    "<variable name> = <value>\n",
    "```\n",
    "\n",
    "Let's try rewriting our Hello, World! statement above using a variable. First, define a variable named *message* with the value \"Hello, World!\" in the empty cell below then press Shift + Return. Notice that when you want to store a block of text (called a string) as a variable, you have to wrap the text block in quotation marks. In Python, you can use either single (') or double (\") quotation marks to wrap strings."
   ]
  },
  {
   "cell_type": "code",
   "execution_count": 49,
   "metadata": {},
   "outputs": [],
   "source": [
    "message = \"Hello, World!\""
   ]
  },
  {
   "cell_type": "markdown",
   "metadata": {},
   "source": [
    "Now, we can use the print function from above to print out the value of our *message* variable with the command\n",
    "\n",
    "```\n",
    "print(message)\n",
    "```\n",
    "\n",
    "Try it in the empty cell below:"
   ]
  },
  {
   "cell_type": "code",
   "execution_count": 50,
   "metadata": {},
   "outputs": [
    {
     "name": "stdout",
     "output_type": "stream",
     "text": [
      "Hello, World!\n"
     ]
    }
   ],
   "source": [
    "print(message)"
   ]
  },
  {
   "cell_type": "markdown",
   "metadata": {},
   "source": [
    "You can also check the value of a variable by simply typing its name into the interpreter. This is helpful when working on or debugging a program but will not produce any output if you're running a program from the command line. Check the value of our message variable below:"
   ]
  },
  {
   "cell_type": "code",
   "execution_count": 51,
   "metadata": {},
   "outputs": [
    {
     "data": {
      "text/plain": [
       "'Hello, World!'"
      ]
     },
     "execution_count": 51,
     "metadata": {},
     "output_type": "execute_result"
    }
   ],
   "source": [
    "message"
   ]
  },
  {
   "cell_type": "markdown",
   "metadata": {},
   "source": [
    "### Data Types\n",
    "\n",
    "If you've ever written code in another language, you may have felt like something was missing in our variable assignment statement above. Namely, in Python there is no need to declare the type of variable you're declaring before you declare it.  \n",
    "\n",
    "What does this mean? In Java, for example, you would declare the variable above as\"\n",
    "\n",
    "```\n",
    "String message = \"Hello, World!\"\n",
    "```\n",
    "\n",
    "That first keyword, \"String\", is used to let Java know that the data you're storing is a string of text. Python, however, doesn't require explicity stating what type of data you're storing in a variable when you declare it. This doesn't mean, however, that variables in Python don't have a specific type associated with them. Indeed, we can check the type of a variable by using the type function."
   ]
  },
  {
   "cell_type": "code",
   "execution_count": 52,
   "metadata": {},
   "outputs": [
    {
     "data": {
      "text/plain": [
       "str"
      ]
     },
     "execution_count": 52,
     "metadata": {},
     "output_type": "execute_result"
    }
   ],
   "source": [
    "type(message)"
   ]
  },
  {
   "cell_type": "markdown",
   "metadata": {},
   "source": [
    "\"str\" means that this variable is a string. In Python, there are four basic types of variables and number of subtypes. The most important ones to know are:  \n",
    "\n",
    "- Numerics: Can encompass both integer and real numbers\n",
    "    - Integers (exclusively for whole numbers)\n",
    "    - Floats/Floating point decimals (for whole numbers or decimals)"
   ]
  },
  {
   "cell_type": "code",
   "execution_count": 53,
   "metadata": {},
   "outputs": [
    {
     "data": {
      "text/plain": [
       "int"
      ]
     },
     "execution_count": 53,
     "metadata": {},
     "output_type": "execute_result"
    }
   ],
   "source": [
    "x = 5\n",
    "type(x)"
   ]
  },
  {
   "cell_type": "code",
   "execution_count": 54,
   "metadata": {},
   "outputs": [
    {
     "data": {
      "text/plain": [
       "float"
      ]
     },
     "execution_count": 54,
     "metadata": {},
     "output_type": "execute_result"
    }
   ],
   "source": [
    "y = 11.012017\n",
    "type(y)"
   ]
  },
  {
   "cell_type": "code",
   "execution_count": 55,
   "metadata": {},
   "outputs": [
    {
     "data": {
      "text/plain": [
       "float"
      ]
     },
     "execution_count": 55,
     "metadata": {},
     "output_type": "execute_result"
    }
   ],
   "source": [
    "type(y)"
   ]
  },
  {
   "cell_type": "markdown",
   "metadata": {},
   "source": [
    "- Strings: Represent text as a 'string' of characters (i.e. the comptuer sees 'Hello, World!' as an 'H' character followed by an 'e' character followed by an 'l' character, etc.). There are a number of subtypes of strings with specific applications that will be covered later."
   ]
  },
  {
   "cell_type": "code",
   "execution_count": 56,
   "metadata": {},
   "outputs": [
    {
     "data": {
      "text/plain": [
       "str"
      ]
     },
     "execution_count": 56,
     "metadata": {},
     "output_type": "execute_result"
    }
   ],
   "source": [
    "text = 'Welcome to Python!'\n",
    "type(text)"
   ]
  },
  {
   "cell_type": "markdown",
   "metadata": {},
   "source": [
    "- Booleans: represent logical values, i.e. True or False"
   ]
  },
  {
   "cell_type": "code",
   "execution_count": 57,
   "metadata": {},
   "outputs": [
    {
     "data": {
      "text/plain": [
       "bool"
      ]
     },
     "execution_count": 57,
     "metadata": {},
     "output_type": "execute_result"
    }
   ],
   "source": [
    "t_or_f = True\n",
    "type(t_or_f)"
   ]
  },
  {
   "cell_type": "markdown",
   "metadata": {},
   "source": [
    "- \"None\": Indicates the absence of a value. In some cases, it's useful to be able to explicitly note that a value does not exist or was not provided by a user."
   ]
  },
  {
   "cell_type": "code",
   "execution_count": 58,
   "metadata": {},
   "outputs": [
    {
     "data": {
      "text/plain": [
       "NoneType"
      ]
     },
     "execution_count": 58,
     "metadata": {},
     "output_type": "execute_result"
    }
   ],
   "source": [
    "a = None\n",
    "type(a)"
   ]
  },
  {
   "cell_type": "markdown",
   "metadata": {},
   "source": [
    "Now, try declaring a few variables for youself and checking their types using the ```type()``` function."
   ]
  },
  {
   "cell_type": "code",
   "execution_count": null,
   "metadata": {},
   "outputs": [],
   "source": []
  },
  {
   "cell_type": "code",
   "execution_count": null,
   "metadata": {},
   "outputs": [],
   "source": []
  },
  {
   "cell_type": "code",
   "execution_count": null,
   "metadata": {},
   "outputs": [],
   "source": []
  },
  {
   "cell_type": "markdown",
   "metadata": {},
   "source": [
    "### Expressions\n",
    "\n",
    "Now that you know how to declare variables and have seen some of the different types of variables, you're ready to start combining them to produce new values.  \n",
    "\n",
    "#### Arithmetic\n",
    "\n",
    "One extremely basic use for Python would be as a simple calculator. All the basic arithmetic expressions, addition (```+```), subtraction (```-```), multipliation (```*```), exponentiation (```**```)division (```/```) work basically as expected."
   ]
  },
  {
   "cell_type": "code",
   "execution_count": 59,
   "metadata": {},
   "outputs": [
    {
     "data": {
      "text/plain": [
       "12"
      ]
     },
     "execution_count": 59,
     "metadata": {},
     "output_type": "execute_result"
    }
   ],
   "source": [
    "11 + 1"
   ]
  },
  {
   "cell_type": "code",
   "execution_count": 60,
   "metadata": {},
   "outputs": [
    {
     "data": {
      "text/plain": [
       "10"
      ]
     },
     "execution_count": 60,
     "metadata": {},
     "output_type": "execute_result"
    }
   ],
   "source": [
    "11 - 1"
   ]
  },
  {
   "cell_type": "code",
   "execution_count": 61,
   "metadata": {},
   "outputs": [
    {
     "data": {
      "text/plain": [
       "22"
      ]
     },
     "execution_count": 61,
     "metadata": {},
     "output_type": "execute_result"
    }
   ],
   "source": [
    "11 * 2"
   ]
  },
  {
   "cell_type": "code",
   "execution_count": 62,
   "metadata": {},
   "outputs": [
    {
     "data": {
      "text/plain": [
       "121"
      ]
     },
     "execution_count": 62,
     "metadata": {},
     "output_type": "execute_result"
    }
   ],
   "source": [
    "11 ** 2"
   ]
  },
  {
   "cell_type": "code",
   "execution_count": 63,
   "metadata": {},
   "outputs": [
    {
     "data": {
      "text/plain": [
       "6.0"
      ]
     },
     "execution_count": 63,
     "metadata": {},
     "output_type": "execute_result"
    }
   ],
   "source": [
    "12 / 2"
   ]
  },
  {
   "cell_type": "markdown",
   "metadata": {},
   "source": [
    "In the last answer, notice that we divided one integer by another yet the output was a float (you can tell by the decimal point). Standard division in Python will always produce a float, regardless of the two values you're dividing. If for some reasons you'd rather have an integer result, you should use the integer division operator, ```//```."
   ]
  },
  {
   "cell_type": "code",
   "execution_count": 64,
   "metadata": {},
   "outputs": [
    {
     "data": {
      "text/plain": [
       "6"
      ]
     },
     "execution_count": 64,
     "metadata": {},
     "output_type": "execute_result"
    }
   ],
   "source": [
    "12 // 2"
   ]
  },
  {
   "cell_type": "code",
   "execution_count": 65,
   "metadata": {},
   "outputs": [
    {
     "data": {
      "text/plain": [
       "5"
      ]
     },
     "execution_count": 65,
     "metadata": {},
     "output_type": "execute_result"
    }
   ],
   "source": [
    "11 // 2"
   ]
  },
  {
   "cell_type": "code",
   "execution_count": 66,
   "metadata": {},
   "outputs": [
    {
     "data": {
      "text/plain": [
       "-6"
      ]
     },
     "execution_count": 66,
     "metadata": {},
     "output_type": "execute_result"
    }
   ],
   "source": [
    "-11 // 2"
   ]
  },
  {
   "cell_type": "markdown",
   "metadata": {},
   "source": [
    "In effect, integer division will divide the two values then round down to the nearest integer.  \n",
    "\n",
    "Lastly, there is also a modulus operator, ```%```, that yields the remainder of an integer division operation."
   ]
  },
  {
   "cell_type": "code",
   "execution_count": 67,
   "metadata": {},
   "outputs": [
    {
     "data": {
      "text/plain": [
       "0.2999999999999998"
      ]
     },
     "execution_count": 67,
     "metadata": {},
     "output_type": "execute_result"
    }
   ],
   "source": [
    "3.3 % 3"
   ]
  },
  {
   "cell_type": "markdown",
   "metadata": {},
   "source": [
    "<div class=\"alert alert-block alert-warning\">\n",
    "<b>Whoa, isn't that answer wrong?</b><br />\n",
    "In the above cell block, you may have noticed that Python returns a value of 0.2999999999999998 instead of 0.3. This issue occurs because of how computers must use an approximation to store decimals. In some scientific operations, these so-called \"floating point errors\" can cause an issue, and it's necesary to use the Python decimal type. If you're curious about this, I'd encourage you to <a href=\"https://docs.python.org/2/library/decimal.html\">read the Python documentation on decimal types.</a>\n",
    "</div>  \n",
    "\n"
   ]
  },
  {
   "cell_type": "markdown",
   "metadata": {},
   "source": [
    "We can also chain operators using the standard mathematical order of operations."
   ]
  },
  {
   "cell_type": "code",
   "execution_count": 68,
   "metadata": {},
   "outputs": [
    {
     "data": {
      "text/plain": [
       "22"
      ]
     },
     "execution_count": 68,
     "metadata": {},
     "output_type": "execute_result"
    }
   ],
   "source": [
    "10 * 2 + 2"
   ]
  },
  {
   "cell_type": "markdown",
   "metadata": {},
   "source": [
    "Finally, we can also use variables in our expression either to store the result of our expressions or perform operations on our different varaibles."
   ]
  },
  {
   "cell_type": "code",
   "execution_count": 69,
   "metadata": {},
   "outputs": [
    {
     "data": {
      "text/plain": [
       "22"
      ]
     },
     "execution_count": 69,
     "metadata": {},
     "output_type": "execute_result"
    }
   ],
   "source": [
    "a = 10\n",
    "b = 2\n",
    "a * b + b"
   ]
  },
  {
   "cell_type": "code",
   "execution_count": 70,
   "metadata": {},
   "outputs": [],
   "source": [
    "c = a * b + b"
   ]
  },
  {
   "cell_type": "code",
   "execution_count": 71,
   "metadata": {},
   "outputs": [
    {
     "name": "stdout",
     "output_type": "stream",
     "text": [
      "22\n"
     ]
    }
   ],
   "source": [
    "print(c)"
   ]
  },
  {
   "cell_type": "markdown",
   "metadata": {},
   "source": [
    "#### Strings\n",
    "\n",
    "Python's built-in operators also provide an easy was to join two strings together using the addition operator."
   ]
  },
  {
   "cell_type": "code",
   "execution_count": 72,
   "metadata": {},
   "outputs": [
    {
     "data": {
      "text/plain": [
       "'abcdef'"
      ]
     },
     "execution_count": 72,
     "metadata": {},
     "output_type": "execute_result"
    }
   ],
   "source": [
    "'abc' + 'def'"
   ]
  },
  {
   "cell_type": "code",
   "execution_count": 73,
   "metadata": {},
   "outputs": [
    {
     "name": "stdout",
     "output_type": "stream",
     "text": [
      "Hello world!\n"
     ]
    }
   ],
   "source": [
    "message1 = 'Hello '\n",
    "message2 = 'world!'\n",
    "message3 = message1 + message2\n",
    "print(message3)"
   ]
  },
  {
   "cell_type": "markdown",
   "metadata": {},
   "source": [
    "Notice, however, that attempting to add a string and a number will yield an error."
   ]
  },
  {
   "cell_type": "code",
   "execution_count": 74,
   "metadata": {},
   "outputs": [
    {
     "ename": "TypeError",
     "evalue": "can only concatenate str (not \"int\") to str",
     "output_type": "error",
     "traceback": [
      "\u001b[0;31m---------------------------------------------------------------------------\u001b[0m",
      "\u001b[0;31mTypeError\u001b[0m                                 Traceback (most recent call last)",
      "\u001b[0;32m<ipython-input-74-e043c3f5b3f0>\u001b[0m in \u001b[0;36m<module>\u001b[0;34m\u001b[0m\n\u001b[0;32m----> 1\u001b[0;31m \u001b[0;34m'one'\u001b[0m \u001b[0;34m+\u001b[0m \u001b[0;36m1\u001b[0m\u001b[0;34m\u001b[0m\u001b[0;34m\u001b[0m\u001b[0m\n\u001b[0m",
      "\u001b[0;31mTypeError\u001b[0m: can only concatenate str (not \"int\") to str"
     ]
    }
   ],
   "source": [
    "'one' + 1"
   ]
  },
  {
   "cell_type": "markdown",
   "metadata": {},
   "source": [
    "#### Relational operators\n",
    "\n",
    "This next set of operators are used to compare two values, and the output of an expression involving them is always a boolean. The include:\n",
    "\n",
    "- ```>```: greater than\n",
    "- ```>=```: greater that or equal to\n",
    "- ``` <```: less than\n",
    "- ```<=```: less than or equal to\n",
    "- ```==```: equals\n",
    "- ```!=```: not equals\n",
    "\n",
    "All six of these can be used on numeric type data, and the final two (equals and not equals) can be used on string type data. Let's see them in action:"
   ]
  },
  {
   "cell_type": "code",
   "execution_count": 75,
   "metadata": {},
   "outputs": [
    {
     "data": {
      "text/plain": [
       "True"
      ]
     },
     "execution_count": 75,
     "metadata": {},
     "output_type": "execute_result"
    }
   ],
   "source": [
    "5 == 5"
   ]
  },
  {
   "cell_type": "code",
   "execution_count": 76,
   "metadata": {},
   "outputs": [
    {
     "data": {
      "text/plain": [
       "False"
      ]
     },
     "execution_count": 76,
     "metadata": {},
     "output_type": "execute_result"
    }
   ],
   "source": [
    "10 < 2"
   ]
  },
  {
   "cell_type": "code",
   "execution_count": 77,
   "metadata": {},
   "outputs": [
    {
     "data": {
      "text/plain": [
       "True"
      ]
     },
     "execution_count": 77,
     "metadata": {},
     "output_type": "execute_result"
    }
   ],
   "source": [
    "6 != 7"
   ]
  },
  {
   "cell_type": "code",
   "execution_count": 78,
   "metadata": {},
   "outputs": [
    {
     "data": {
      "text/plain": [
       "True"
      ]
     },
     "execution_count": 78,
     "metadata": {},
     "output_type": "execute_result"
    }
   ],
   "source": [
    "\"Hello\" == \"Hello\""
   ]
  },
  {
   "cell_type": "code",
   "execution_count": 79,
   "metadata": {},
   "outputs": [
    {
     "data": {
      "text/plain": [
       "False"
      ]
     },
     "execution_count": 79,
     "metadata": {},
     "output_type": "execute_result"
    }
   ],
   "source": [
    "\"Hello\" == \"Bonjour\""
   ]
  },
  {
   "cell_type": "code",
   "execution_count": 80,
   "metadata": {},
   "outputs": [
    {
     "data": {
      "text/plain": [
       "False"
      ]
     },
     "execution_count": 80,
     "metadata": {},
     "output_type": "execute_result"
    }
   ],
   "source": [
    "\"hello\" == \"Hello\""
   ]
  },
  {
   "cell_type": "markdown",
   "metadata": {},
   "source": [
    "Notice that string equality is case sensitive.\n",
    "\n",
    "In the cell below, I've defined two variables, ```a``` and ```b```. Write three expressions in the empy cells to check wheter a is greater than zero, whether b is greater than or equal to zero, and whether a times b is less than zero."
   ]
  },
  {
   "cell_type": "code",
   "execution_count": 81,
   "metadata": {},
   "outputs": [],
   "source": [
    "a = 10\n",
    "b = -1"
   ]
  },
  {
   "cell_type": "code",
   "execution_count": 82,
   "metadata": {},
   "outputs": [],
   "source": [
    "#is a greater than zero? enter your code below this line"
   ]
  },
  {
   "cell_type": "code",
   "execution_count": 83,
   "metadata": {},
   "outputs": [],
   "source": [
    "#is b greater than or equal to zero? enter your code below this line"
   ]
  },
  {
   "cell_type": "code",
   "execution_count": 84,
   "metadata": {},
   "outputs": [],
   "source": [
    "#is a + b equal to zero? enter your code below this line"
   ]
  },
  {
   "cell_type": "markdown",
   "metadata": {},
   "source": [
    "#### Logical operators\n",
    "\n",
    "We can combine multiple expressions with relational operators using the logical operators ```and``` and ```or```. Consider this expression:"
   ]
  },
  {
   "cell_type": "code",
   "execution_count": 85,
   "metadata": {},
   "outputs": [
    {
     "data": {
      "text/plain": [
       "False"
      ]
     },
     "execution_count": 85,
     "metadata": {},
     "output_type": "execute_result"
    }
   ],
   "source": [
    "a = 20\n",
    "b = 30\n",
    "\n",
    "a > 25 and b > 25"
   ]
  },
  {
   "cell_type": "markdown",
   "metadata": {},
   "source": [
    "This expression would only evaluate to True if both a and b were greater than 25."
   ]
  },
  {
   "cell_type": "code",
   "execution_count": 86,
   "metadata": {},
   "outputs": [
    {
     "data": {
      "text/plain": [
       "True"
      ]
     },
     "execution_count": 86,
     "metadata": {},
     "output_type": "execute_result"
    }
   ],
   "source": [
    "a > 25 or b > 25"
   ]
  },
  {
   "cell_type": "markdown",
   "metadata": {},
   "source": [
    "This expression will evaluate to True if either a or b was greater than 25. \n",
    "\n",
    "Finally, there is also a ```not``` operator that will negate a boolean value. For example:"
   ]
  },
  {
   "cell_type": "code",
   "execution_count": 87,
   "metadata": {},
   "outputs": [
    {
     "data": {
      "text/plain": [
       "True"
      ]
     },
     "execution_count": 87,
     "metadata": {},
     "output_type": "execute_result"
    }
   ],
   "source": [
    "a = 5\n",
    "a > 0"
   ]
  },
  {
   "cell_type": "code",
   "execution_count": 88,
   "metadata": {},
   "outputs": [
    {
     "data": {
      "text/plain": [
       "False"
      ]
     },
     "execution_count": 88,
     "metadata": {},
     "output_type": "execute_result"
    }
   ],
   "source": [
    "not a > 0"
   ]
  },
  {
   "cell_type": "markdown",
   "metadata": {},
   "source": [
    "The value of ```a``` is greater than zero, therefore the first expression evaluate to True. The not operator, however, negates this True value in the second expression, so the second expression produes False. Consider another example. Do you understand why the expression evaluates to be True?"
   ]
  },
  {
   "cell_type": "code",
   "execution_count": 89,
   "metadata": {},
   "outputs": [
    {
     "data": {
      "text/plain": [
       "True"
      ]
     },
     "execution_count": 89,
     "metadata": {},
     "output_type": "execute_result"
    }
   ],
   "source": [
    "a = 5\n",
    "not a < 0"
   ]
  },
  {
   "cell_type": "markdown",
   "metadata": {},
   "source": [
    "Similar to arithmetic, you can (and should!) use parentheses in your expressions to clarify order of operations. The next expression checks that a is either less than or equal to zero or greater than or equal to 5."
   ]
  },
  {
   "cell_type": "code",
   "execution_count": 90,
   "metadata": {},
   "outputs": [
    {
     "data": {
      "text/plain": [
       "False"
      ]
     },
     "execution_count": 90,
     "metadata": {},
     "output_type": "execute_result"
    }
   ],
   "source": [
    "not (a > 5 or 0 < a)"
   ]
  },
  {
   "cell_type": "markdown",
   "metadata": {},
   "source": [
    "The following expression will check whether a is greater than 0 or less than or equal to 5."
   ]
  },
  {
   "cell_type": "code",
   "execution_count": 91,
   "metadata": {},
   "outputs": [
    {
     "data": {
      "text/plain": [
       "True"
      ]
     },
     "execution_count": 91,
     "metadata": {},
     "output_type": "execute_result"
    }
   ],
   "source": [
    " not a > 5 or a < 0"
   ]
  },
  {
   "cell_type": "markdown",
   "metadata": {},
   "source": [
    "## Pythonic Code Organization"
   ]
  }
 ],
 "metadata": {
  "kernelspec": {
   "display_name": "Python 3",
   "language": "python",
   "name": "python3"
  },
  "language_info": {
   "codemirror_mode": {
    "name": "ipython",
    "version": 3
   },
   "file_extension": ".py",
   "mimetype": "text/x-python",
   "name": "python",
   "nbconvert_exporter": "python",
   "pygments_lexer": "ipython3",
   "version": "3.7.3"
  }
 },
 "nbformat": 4,
 "nbformat_minor": 2
}
