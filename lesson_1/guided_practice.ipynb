{
 "cells": [
  {
   "cell_type": "markdown",
   "metadata": {},
   "source": [
    "# Lesson 1: Guided Practice  \n",
    "\n",
    "Key learning results:\n",
    "- I understand the how to run Python code from the command line, in the interpreter, and in an Jupyter notebook.\n",
    "- I can declare a variable.\n",
    "- I feel comfortable writing various expressions.\n",
    "- I understand \"Pythonic\" code organization.\n",
    "- I recall the syntax for basic conditional flow statements.\n",
    "\n",
    "## Where are we?: A brief introduction to running Python code\n",
    "\n",
    "Before we actually start writing code, we need to talk about what we do with the code we're writing. Broadly, there are two ways of running Python code: line-by-line (a.k.a. interactively) or from a file. \n",
    "\n",
    "### Running code from file\n",
    "Running a file in Python is as simple as openning up a terminal/command line window, navigating to the folder containing the file, then entering the following command:\n",
    "\n",
    "```\n",
    "python3 <file_name>\n",
    "```\n",
    "\n",
    "If you only have one version of Python installed or if the default version on Python on your system is Python 3, then it is also sufficient to use this command:\n",
    "\n",
    "```\n",
    "python <file_name>\n",
    "```\n",
    "\n",
    "Using the first command, however, ensures that our code is being run in Python 3.X and not Python 2.X. While Python 3.X is the most up-to-date, Python 2.X remains popular, and the two versions aren't perfectly cross compatible. This issue likely won't come up until you start exploring different, more advanced packages available in Python.\n",
    "\n",
    "If you feel uncomfortable navigating your computer from the terminal/command line, I suggest [working through this short tutorial.](https://blog.teamtreehouse.com/introduction-to-the-mac-os-x-command-line) You don't need to become an expert, but a basic understanding of how to interface with your computer through the command line.\n",
    "\n",
    "Programs don't by default have a command line interface, and though building one out is fairly simple, it won't be covered in any of the Python Jams. Still, it's good to be aware of how to run programs from the command line.\n",
    "\n",
    "### Running code interactively\n",
    "\n",
    "Throughout these sessions, we'll be running code interactively either through IPython or through a Jupyter notebook. Both allow us to work through code line by line, evaluating our progress as we work. \n",
    "\n",
    "#### IPython\n",
    "\n",
    "To access IPython, open up the terminal/command line and run this command:\n",
    "\n",
    "```\n",
    "ipython3\n",
    "```\n",
    "\n",
    "You should see the following text appear on screen:\n",
    "\n",
    "```\n",
    "Python 3.7.3 (default, Mar 27 2019, 16:54:48) \n",
    "Type 'copyright', 'credits' or 'license' for more information\n",
    "IPython 7.5.0 -- An enhanced Interactive Python. Type '?' for help.\n",
    "```\n",
    "\n",
    "This text is followed by a prompt where you can type in Python code and see its results.\n",
    "\n",
    "#### Your first program\n",
    "\n",
    "Now that you're ready to write Python code, lets print out a simple Hello World statement. In Python, this requires a single line of code:\n",
    "\n",
    "```\n",
    "print(\"Hello, world!\")\n",
    "```\n",
    "\n",
    "Type this into the IPython window we just opened, and you should see the text ```Hello, world!``` appear below where you just typed!\n",
    "\n",
    "#### Jupyter notebooks\n",
    "\n",
    "Another place where we can run code iteractively is a Jupyter notebook. Indeed, this document you're reading right now is a Jupyter notebook. Running code in a Jupyter notebook allows you to combine text (in Markdown), plots, and other media alongside your code. This ability can be helpful if you're using Python to produce an analysis you intend to send to others or if you would like to explain the code you're writing as you're writing it. Furthermore, Jupyter notebooks also allow us to export \n",
    "\n",
    "Below this text, there is an empty \"code\" cell where you can write and run Python code within this document. Try typing our Hello, World! statement in that cell and then run it by either pressing Shift + Return or pressing the run button in the navigation bar."
   ]
  },
  {
   "cell_type": "code",
   "execution_count": 2,
   "metadata": {},
   "outputs": [
    {
     "name": "stdout",
     "output_type": "stream",
     "text": [
      "Hello, World!\n"
     ]
    }
   ],
   "source": [
    "print('Hello, World!')"
   ]
  },
  {
   "cell_type": "markdown",
   "metadata": {},
   "source": [
    "The majority of Python Jams will be in Jupyter notebooks, however, you should also try running some code in IPython so that you feel comfortable with it. When working by yourself on a project, you'll likely find it easier to work in IPython than in Jupyter notebooks.\n",
    "\n",
    "## Basics of Python Programming\n",
    "\n",
    "The topics covered in this section may seem elementary, but are essential building blocks for writing or debugging more advanced programs. While the section will be focused on how these topics are implemented in Python, these elements will be available in any programming lanague, though possibly with a slightly different impelementation.\n",
    "\n",
    "### Variables\n",
    "\n",
    "Variables are symbolic links that allow you to keep track of information in your machine's memory while a program runs. When defining a variable, you give it a name that you will use later on to retrieve or update the information stored in that variable.\n",
    "\n",
    "In Python, we define variables like this:\n",
    "\n",
    "```\n",
    "<variable name> = <value>\n",
    "```\n",
    "\n",
    "Let's try rewriting our Hello, World! statement above using a variable. First, define a variable named *message* with the value \"Hello, World!\" in the empty cell below then press Shift + Return. Notice that when you want to store a block of text (called a string) as a variable, you have to wrap the text block in quotation marks. In Python, you can use either single (') or double (\") quotation marks to wrap strings."
   ]
  },
  {
   "cell_type": "code",
   "execution_count": 3,
   "metadata": {},
   "outputs": [],
   "source": [
    "message = \"Hello, World!\""
   ]
  },
  {
   "cell_type": "markdown",
   "metadata": {},
   "source": [
    "Now, we can use the print function from above to print out the value of our *message* variable with the command\n",
    "\n",
    "```\n",
    "print(message)\n",
    "```\n",
    "\n",
    "Try it in the empty cell below:"
   ]
  },
  {
   "cell_type": "code",
   "execution_count": 4,
   "metadata": {},
   "outputs": [
    {
     "name": "stdout",
     "output_type": "stream",
     "text": [
      "Hello, World!\n"
     ]
    }
   ],
   "source": [
    "print(message)"
   ]
  },
  {
   "cell_type": "markdown",
   "metadata": {},
   "source": [
    "You can also check the value of a variable by simply typing its name into the interpreter. This is helpful when working on or debugging a program but will not produce any output if you're running a program from the command line. Check the value of our message variable below:"
   ]
  },
  {
   "cell_type": "code",
   "execution_count": 5,
   "metadata": {},
   "outputs": [
    {
     "data": {
      "text/plain": [
       "'Hello, World!'"
      ]
     },
     "execution_count": 5,
     "metadata": {},
     "output_type": "execute_result"
    }
   ],
   "source": [
    "message"
   ]
  },
  {
   "cell_type": "markdown",
   "metadata": {},
   "source": [
    "### Data Types\n",
    "\n",
    "If you've ever written code in another language, you may have felt like something was missing in our variable assignment statement above. Namely, in Python there is no need to declare the type of variable you're declaring before you declare it.  \n",
    "\n",
    "What does this mean? In Java, for example, you would declare the variable above as\"\n",
    "\n",
    "```\n",
    "String message = \"Hello, World!\"\n",
    "```\n",
    "\n",
    "That first keyword, \"String\", is used to let Java know that the data you're storing is a string of text. Python, however, doesn't require explicity stating what type of data you're storing in a variable when you declare it. This doesn't mean, however, that variables in Python don't have a specific type associated with them. Indeed, we can check the type of a variable by using the type function."
   ]
  },
  {
   "cell_type": "code",
   "execution_count": 6,
   "metadata": {},
   "outputs": [
    {
     "data": {
      "text/plain": [
       "str"
      ]
     },
     "execution_count": 6,
     "metadata": {},
     "output_type": "execute_result"
    }
   ],
   "source": [
    "type(message)"
   ]
  },
  {
   "cell_type": "markdown",
   "metadata": {},
   "source": [
    "\"str\" means that this variable is a string. In Python, there are four basic types of variables and number of subtypes. The most important ones to know are:  \n",
    "\n",
    "- Numerics: Can encompass both integer and real numbers\n",
    "    - Integers (exclusively for whole numbers)\n",
    "    - Floats/Floating point decimals (for whole numbers or decimals)"
   ]
  },
  {
   "cell_type": "code",
   "execution_count": 7,
   "metadata": {},
   "outputs": [],
   "source": [
    "x = 5"
   ]
  },
  {
   "cell_type": "code",
   "execution_count": 8,
   "metadata": {},
   "outputs": [
    {
     "data": {
      "text/plain": [
       "int"
      ]
     },
     "execution_count": 8,
     "metadata": {},
     "output_type": "execute_result"
    }
   ],
   "source": [
    "type(x)"
   ]
  },
  {
   "cell_type": "code",
   "execution_count": 9,
   "metadata": {},
   "outputs": [],
   "source": [
    "y = 11.012017"
   ]
  },
  {
   "cell_type": "code",
   "execution_count": 10,
   "metadata": {},
   "outputs": [
    {
     "data": {
      "text/plain": [
       "float"
      ]
     },
     "execution_count": 10,
     "metadata": {},
     "output_type": "execute_result"
    }
   ],
   "source": [
    "type(y)"
   ]
  },
  {
   "cell_type": "markdown",
   "metadata": {},
   "source": [
    "- Strings: Represent text as a 'string' of characters (i.e. the comptuer sees 'Hello, World!' as an 'H' character followed by an 'e' character followed by an 'l' character, etc.). There are a number of subtypes of strings with specific applications that will be covered later."
   ]
  },
  {
   "cell_type": "code",
   "execution_count": 14,
   "metadata": {},
   "outputs": [],
   "source": [
    "text = 'Welcome to Python!'"
   ]
  },
  {
   "cell_type": "code",
   "execution_count": 15,
   "metadata": {},
   "outputs": [
    {
     "data": {
      "text/plain": [
       "str"
      ]
     },
     "execution_count": 15,
     "metadata": {},
     "output_type": "execute_result"
    }
   ],
   "source": [
    "type(text)"
   ]
  },
  {
   "cell_type": "markdown",
   "metadata": {},
   "source": [
    "- Booleans: represent logical values, i.e. True or False"
   ]
  },
  {
   "cell_type": "code",
   "execution_count": 22,
   "metadata": {},
   "outputs": [
    {
     "data": {
      "text/plain": [
       "bool"
      ]
     },
     "execution_count": 22,
     "metadata": {},
     "output_type": "execute_result"
    }
   ],
   "source": [
    "t_or_f = True\n",
    "type(t_or_f)"
   ]
  },
  {
   "cell_type": "markdown",
   "metadata": {},
   "source": [
    "- \"None\": Indicates the absence of a value. In some cases, it's useful to be able to explicitly note that a value does not exist or was not provided by a user."
   ]
  },
  {
   "cell_type": "code",
   "execution_count": 21,
   "metadata": {},
   "outputs": [
    {
     "data": {
      "text/plain": [
       "NoneType"
      ]
     },
     "execution_count": 21,
     "metadata": {},
     "output_type": "execute_result"
    }
   ],
   "source": [
    "a = None\n",
    "type(a)"
   ]
  },
  {
   "cell_type": "markdown",
   "metadata": {},
   "source": [
    "Now, try declaring a few variables for youself and checking their types using the ```type()``` function."
   ]
  },
  {
   "cell_type": "code",
   "execution_count": null,
   "metadata": {},
   "outputs": [],
   "source": []
  },
  {
   "cell_type": "code",
   "execution_count": null,
   "metadata": {},
   "outputs": [],
   "source": []
  },
  {
   "cell_type": "code",
   "execution_count": null,
   "metadata": {},
   "outputs": [],
   "source": []
  },
  {
   "cell_type": "code",
   "execution_count": null,
   "metadata": {},
   "outputs": [],
   "source": []
  },
  {
   "cell_type": "code",
   "execution_count": null,
   "metadata": {},
   "outputs": [],
   "source": []
  },
  {
   "cell_type": "code",
   "execution_count": null,
   "metadata": {},
   "outputs": [],
   "source": []
  }
 ],
 "metadata": {
  "kernelspec": {
   "display_name": "Python 3",
   "language": "python",
   "name": "python3"
  },
  "language_info": {
   "codemirror_mode": {
    "name": "ipython",
    "version": 3
   },
   "file_extension": ".py",
   "mimetype": "text/x-python",
   "name": "python",
   "nbconvert_exporter": "python",
   "pygments_lexer": "ipython3",
   "version": "3.7.3"
  }
 },
 "nbformat": 4,
 "nbformat_minor": 2
}
