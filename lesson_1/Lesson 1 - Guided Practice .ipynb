{
 "cells": [
  {
   "cell_type": "markdown",
   "metadata": {},
   "source": [
    "# Key Learning Results\n",
    "\n",
    "Key learning results:\n",
    "- I understand the how to run Python code from the command line, in the interpreter, and in an Jupyter notebook.\n",
    "- I can declare a variable.\n",
    "- I feel comfortable writing various expressions.\n",
    "- I understand \"Pythonic\" code organization.\n",
    "- I recall the syntax for basic control flow statements.\n",
    "\n",
    "# Where are we?: A brief introduction to running Python code\n",
    "\n",
    "Before we actually start writing code, we need to talk about what we do with the code we're writing. Broadly, there are two ways of running Python code: line-by-line (a.k.a. interactively) or from a file. \n",
    "\n",
    "## Running code from file\n",
    "Running a file in Python is as simple as openning up a terminal/command line window, navigating to the folder containing the file, then entering the following command:\n",
    "\n",
    "```\n",
    "python3 <file_name>\n",
    "```\n",
    "\n",
    "If you only have one version of Python installed or if the default version on Python on your system is Python 3, then it is also sufficient to use this command:\n",
    "\n",
    "```\n",
    "python <file_name>\n",
    "```\n",
    "\n",
    "Using the first command, however, ensures that our code is being run in Python 3.X and not Python 2.X. While Python 3.X is the most up-to-date, Python 2.X remains popular, and the two versions aren't perfectly cross compatible. This issue likely won't come up until you start exploring different, more advanced packages available in Python.\n",
    "\n",
    "If you feel uncomfortable navigating your computer from the terminal/command line, I suggest [working through this short tutorial.](https://blog.teamtreehouse.com/introduction-to-the-mac-os-x-command-line) You don't need to become an expert, but a basic understanding of how to interface with your computer through the command line.\n",
    "\n",
    "Programs don't by default have a command line interface, and though building one out is fairly simple, it won't be covered in any of the Python Jams. Still, it's good to be aware of how to run programs from the command line.\n",
    "\n",
    "## Running code interactively\n",
    "\n",
    "Throughout these sessions, we'll be running code interactively either through IPython or through a Jupyter notebook. Both allow us to work through code line by line, evaluating our progress as we work. \n",
    "\n",
    "### IPython\n",
    "\n",
    "To access IPython, open up the terminal/command line and run this command:\n",
    "\n",
    "```\n",
    "ipython3\n",
    "```\n",
    "\n",
    "You should see the following text appear on screen:\n",
    "\n",
    "```\n",
    "Python 3.7.3 (default, Mar 27 2019, 16:54:48) \n",
    "Type 'copyright', 'credits' or 'license' for more information\n",
    "IPython 7.5.0 -- An enhanced Interactive Python. Type '?' for help.\n",
    "```\n",
    "\n",
    "This text is followed by a prompt where you can type in Python code and see its results.\n",
    "\n",
    "### Your first program\n",
    "\n",
    "Now that you're ready to write Python code, lets print out a simple Hello World statement. In Python, this requires a single line of code:\n",
    "\n",
    "```\n",
    "print(\"Hello, world!\")\n",
    "```\n",
    "\n",
    "Type this into the IPython window we just opened, and you should see the text ```Hello, world!``` appear below where you just typed!\n",
    "\n",
    "### Jupyter notebooks\n",
    "\n",
    "Another place where we can run code iteractively is a Jupyter notebook. Indeed, this document you're reading right now is a Jupyter notebook. Running code in a Jupyter notebook allows you to combine text (in Markdown), plots, and other media alongside your code. This ability can be helpful if you're using Python to produce an analysis you intend to send to others or if you would like to explain the code you're writing as you're writing it. Furthermore, Jupyter notebooks also allow us to export \n",
    "\n",
    "Below this text, there is an empty \"code\" cell where you can write and run Python code within this document. Try typing our Hello, World! statement in that cell and then run it by either pressing Shift + Return or pressing the run button in the navigation bar."
   ]
  },
  {
   "cell_type": "code",
   "execution_count": 48,
   "metadata": {
    "scrolled": true
   },
   "outputs": [
    {
     "name": "stdout",
     "output_type": "stream",
     "text": [
      "Hello, World!\n"
     ]
    }
   ],
   "source": [
    "print('Hello, World!')"
   ]
  },
  {
   "cell_type": "markdown",
   "metadata": {},
   "source": [
    "The majority of Python Jams will be in Jupyter notebooks, however, you should also try running some code in IPython so that you feel comfortable with it. When working by yourself on a project, you'll likely find it easier to work in IPython than in Jupyter notebooks.\n",
    "\n",
    "# Basics of Python Programming\n",
    "\n",
    "The topics covered in this section may seem elementary, but are essential building blocks for writing or debugging more advanced programs. While the section will be focused on how these topics are implemented in Python, these elements will be available in any programming lanague, though possibly with a slightly different impelementation.\n",
    "\n",
    "## Variables\n",
    "\n",
    "Variables are symbolic links that allow you to keep track of information in your machine's memory while a program runs. When defining a variable, you give it a name that you will use later on to retrieve or update the information stored in that variable.\n",
    "\n",
    "In Python, we define variables like this:\n",
    "\n",
    "```\n",
    "<variable name> = <value>\n",
    "```\n",
    "\n",
    "Let's try rewriting our Hello, World! statement above using a variable. First, define a variable named *message* with the value \"Hello, World!\" in the empty cell below then press Shift + Return. Notice that when you want to store a block of text (called a string) as a variable, you have to wrap the text block in quotation marks. In Python, you can use either single (') or double (\") quotation marks to wrap strings."
   ]
  },
  {
   "cell_type": "code",
   "execution_count": 49,
   "metadata": {
    "scrolled": true
   },
   "outputs": [],
   "source": [
    "message = \"Hello, World!\""
   ]
  },
  {
   "cell_type": "markdown",
   "metadata": {},
   "source": [
    "Now, we can use the print function from above to print out the value of our *message* variable with the command\n",
    "\n",
    "```\n",
    "print(message)\n",
    "```\n",
    "\n",
    "Try it in the empty cell below:"
   ]
  },
  {
   "cell_type": "code",
   "execution_count": 50,
   "metadata": {
    "scrolled": true
   },
   "outputs": [
    {
     "name": "stdout",
     "output_type": "stream",
     "text": [
      "Hello, World!\n"
     ]
    }
   ],
   "source": [
    "print(message)"
   ]
  },
  {
   "cell_type": "markdown",
   "metadata": {},
   "source": [
    "You can also check the value of a variable by simply typing its name into the interpreter. This is helpful when working on or debugging a program but will not produce any output if you're running a program from the command line. Check the value of our message variable below:"
   ]
  },
  {
   "cell_type": "code",
   "execution_count": 51,
   "metadata": {
    "scrolled": true
   },
   "outputs": [
    {
     "data": {
      "text/plain": [
       "'Hello, World!'"
      ]
     },
     "execution_count": 51,
     "metadata": {},
     "output_type": "execute_result"
    }
   ],
   "source": [
    "message"
   ]
  },
  {
   "cell_type": "markdown",
   "metadata": {},
   "source": [
    "## Data Types\n",
    "\n",
    "If you've ever written code in another language, you may have felt like something was missing in our variable assignment statement above. Namely, in Python there is no need to declare the type of variable you're declaring before you declare it.  \n",
    "\n",
    "What does this mean? In Java, for example, you would declare the variable above as\"\n",
    "\n",
    "```\n",
    "String message = \"Hello, World!\"\n",
    "```\n",
    "\n",
    "That first keyword, \"String\", is used to let Java know that the data you're storing is a string of text. Python, however, doesn't require explicity stating what type of data you're storing in a variable when you declare it. This doesn't mean, however, that variables in Python don't have a specific type associated with them. Indeed, we can check the type of a variable by using the type function."
   ]
  },
  {
   "cell_type": "code",
   "execution_count": 52,
   "metadata": {
    "scrolled": true
   },
   "outputs": [
    {
     "data": {
      "text/plain": [
       "str"
      ]
     },
     "execution_count": 52,
     "metadata": {},
     "output_type": "execute_result"
    }
   ],
   "source": [
    "type(message)"
   ]
  },
  {
   "cell_type": "markdown",
   "metadata": {},
   "source": [
    "\"str\" means that this variable is a string. In Python, there are four basic types of variables and number of subtypes. The most important ones to know are:  \n",
    "\n",
    "- Numerics: Can encompass both integer and real numbers\n",
    "    - Integers (exclusively for whole numbers)\n",
    "    - Floats/Floating point decimals (for whole numbers or decimals)"
   ]
  },
  {
   "cell_type": "code",
   "execution_count": 53,
   "metadata": {
    "scrolled": true
   },
   "outputs": [
    {
     "data": {
      "text/plain": [
       "int"
      ]
     },
     "execution_count": 53,
     "metadata": {},
     "output_type": "execute_result"
    }
   ],
   "source": [
    "x = 5\n",
    "type(x)"
   ]
  },
  {
   "cell_type": "code",
   "execution_count": 54,
   "metadata": {
    "scrolled": true
   },
   "outputs": [
    {
     "data": {
      "text/plain": [
       "float"
      ]
     },
     "execution_count": 54,
     "metadata": {},
     "output_type": "execute_result"
    }
   ],
   "source": [
    "y = 11.012017\n",
    "type(y)"
   ]
  },
  {
   "cell_type": "code",
   "execution_count": 55,
   "metadata": {
    "scrolled": true
   },
   "outputs": [
    {
     "data": {
      "text/plain": [
       "float"
      ]
     },
     "execution_count": 55,
     "metadata": {},
     "output_type": "execute_result"
    }
   ],
   "source": [
    "type(y)"
   ]
  },
  {
   "cell_type": "markdown",
   "metadata": {},
   "source": [
    "- Strings: Represent text as a 'string' of characters (i.e. the comptuer sees 'Hello, World!' as an 'H' character followed by an 'e' character followed by an 'l' character, etc.). There are a number of subtypes of strings with specific applications that will be covered later."
   ]
  },
  {
   "cell_type": "code",
   "execution_count": 56,
   "metadata": {
    "scrolled": true
   },
   "outputs": [
    {
     "data": {
      "text/plain": [
       "str"
      ]
     },
     "execution_count": 56,
     "metadata": {},
     "output_type": "execute_result"
    }
   ],
   "source": [
    "text = 'Welcome to Python!'\n",
    "type(text)"
   ]
  },
  {
   "cell_type": "markdown",
   "metadata": {},
   "source": [
    "- Booleans: represent logical values, i.e. True or False"
   ]
  },
  {
   "cell_type": "code",
   "execution_count": 57,
   "metadata": {
    "scrolled": true
   },
   "outputs": [
    {
     "data": {
      "text/plain": [
       "bool"
      ]
     },
     "execution_count": 57,
     "metadata": {},
     "output_type": "execute_result"
    }
   ],
   "source": [
    "t_or_f = True\n",
    "type(t_or_f)"
   ]
  },
  {
   "cell_type": "markdown",
   "metadata": {},
   "source": [
    "- \"None\": Indicates the absence of a value. In some cases, it's useful to be able to explicitly note that a value does not exist or was not provided by a user."
   ]
  },
  {
   "cell_type": "code",
   "execution_count": 58,
   "metadata": {
    "scrolled": true
   },
   "outputs": [
    {
     "data": {
      "text/plain": [
       "NoneType"
      ]
     },
     "execution_count": 58,
     "metadata": {},
     "output_type": "execute_result"
    }
   ],
   "source": [
    "a = None\n",
    "type(a)"
   ]
  },
  {
   "cell_type": "markdown",
   "metadata": {},
   "source": [
    "Now, try declaring a few variables for youself and checking their types using the ```type()``` function."
   ]
  },
  {
   "cell_type": "code",
   "execution_count": null,
   "metadata": {
    "scrolled": true
   },
   "outputs": [],
   "source": []
  },
  {
   "cell_type": "code",
   "execution_count": null,
   "metadata": {
    "scrolled": true
   },
   "outputs": [],
   "source": []
  },
  {
   "cell_type": "code",
   "execution_count": null,
   "metadata": {
    "scrolled": true
   },
   "outputs": [],
   "source": []
  },
  {
   "cell_type": "markdown",
   "metadata": {},
   "source": [
    "## Expressions\n",
    "\n",
    "Now that you know how to declare variables and have seen some of the different types of variables, you're ready to start combining them to produce new values.  \n",
    "\n",
    "### Arithmetic\n",
    "\n",
    "One extremely basic use for Python would be as a simple calculator. All the basic arithmetic expressions, addition (```+```), subtraction (```-```), multipliation (```*```), exponentiation (```**```)division (```/```) work basically as expected."
   ]
  },
  {
   "cell_type": "code",
   "execution_count": 59,
   "metadata": {
    "scrolled": true
   },
   "outputs": [
    {
     "data": {
      "text/plain": [
       "12"
      ]
     },
     "execution_count": 59,
     "metadata": {},
     "output_type": "execute_result"
    }
   ],
   "source": [
    "11 + 1"
   ]
  },
  {
   "cell_type": "code",
   "execution_count": 60,
   "metadata": {
    "scrolled": true
   },
   "outputs": [
    {
     "data": {
      "text/plain": [
       "10"
      ]
     },
     "execution_count": 60,
     "metadata": {},
     "output_type": "execute_result"
    }
   ],
   "source": [
    "11 - 1"
   ]
  },
  {
   "cell_type": "code",
   "execution_count": 61,
   "metadata": {
    "scrolled": true
   },
   "outputs": [
    {
     "data": {
      "text/plain": [
       "22"
      ]
     },
     "execution_count": 61,
     "metadata": {},
     "output_type": "execute_result"
    }
   ],
   "source": [
    "11 * 2"
   ]
  },
  {
   "cell_type": "code",
   "execution_count": 62,
   "metadata": {
    "scrolled": true
   },
   "outputs": [
    {
     "data": {
      "text/plain": [
       "121"
      ]
     },
     "execution_count": 62,
     "metadata": {},
     "output_type": "execute_result"
    }
   ],
   "source": [
    "11 ** 2"
   ]
  },
  {
   "cell_type": "code",
   "execution_count": 63,
   "metadata": {
    "scrolled": true
   },
   "outputs": [
    {
     "data": {
      "text/plain": [
       "6.0"
      ]
     },
     "execution_count": 63,
     "metadata": {},
     "output_type": "execute_result"
    }
   ],
   "source": [
    "12 / 2"
   ]
  },
  {
   "cell_type": "markdown",
   "metadata": {},
   "source": [
    "In the last answer, notice that we divided one integer by another yet the output was a float (you can tell by the decimal point). Standard division in Python will always produce a float, regardless of the two values you're dividing. If for some reasons you'd rather have an integer result, you should use the integer division operator, ```//```."
   ]
  },
  {
   "cell_type": "code",
   "execution_count": 64,
   "metadata": {
    "scrolled": true
   },
   "outputs": [
    {
     "data": {
      "text/plain": [
       "6"
      ]
     },
     "execution_count": 64,
     "metadata": {},
     "output_type": "execute_result"
    }
   ],
   "source": [
    "12 // 2"
   ]
  },
  {
   "cell_type": "code",
   "execution_count": 65,
   "metadata": {
    "scrolled": true
   },
   "outputs": [
    {
     "data": {
      "text/plain": [
       "5"
      ]
     },
     "execution_count": 65,
     "metadata": {},
     "output_type": "execute_result"
    }
   ],
   "source": [
    "11 // 2"
   ]
  },
  {
   "cell_type": "code",
   "execution_count": 66,
   "metadata": {
    "scrolled": true
   },
   "outputs": [
    {
     "data": {
      "text/plain": [
       "-6"
      ]
     },
     "execution_count": 66,
     "metadata": {},
     "output_type": "execute_result"
    }
   ],
   "source": [
    "-11 // 2"
   ]
  },
  {
   "cell_type": "markdown",
   "metadata": {},
   "source": [
    "In effect, integer division will divide the two values then round down to the nearest integer.  \n",
    "\n",
    "Lastly, there is also a modulus operator, ```%```, that yields the remainder of an integer division operation."
   ]
  },
  {
   "cell_type": "code",
   "execution_count": 67,
   "metadata": {
    "scrolled": true
   },
   "outputs": [
    {
     "data": {
      "text/plain": [
       "0.2999999999999998"
      ]
     },
     "execution_count": 67,
     "metadata": {},
     "output_type": "execute_result"
    }
   ],
   "source": [
    "3.3 % 3"
   ]
  },
  {
   "cell_type": "markdown",
   "metadata": {},
   "source": [
    "<div class=\"alert alert-block alert-warning\">\n",
    "<b>Whoa, isn't that answer wrong?</b><br />\n",
    "In the above cell block, you may have noticed that Python returns a value of 0.2999999999999998 instead of 0.3. This issue occurs because of how computers must use an approximation to store decimals. In some scientific operations, these so-called \"floating point errors\" can cause an issue, and it's necesary to use the Python decimal type. If you're curious about this, I'd encourage you to <a href=\"https://docs.python.org/2/library/decimal.html\">read the Python documentation on decimal types.</a>\n",
    "</div>  \n",
    "\n"
   ]
  },
  {
   "cell_type": "markdown",
   "metadata": {},
   "source": [
    "We can also chain operators using the standard mathematical order of operations."
   ]
  },
  {
   "cell_type": "code",
   "execution_count": 68,
   "metadata": {
    "scrolled": true
   },
   "outputs": [
    {
     "data": {
      "text/plain": [
       "22"
      ]
     },
     "execution_count": 68,
     "metadata": {},
     "output_type": "execute_result"
    }
   ],
   "source": [
    "10 * 2 + 2"
   ]
  },
  {
   "cell_type": "markdown",
   "metadata": {},
   "source": [
    "Finally, we can also use variables in our expression either to store the result of our expressions or perform operations on our different varaibles."
   ]
  },
  {
   "cell_type": "code",
   "execution_count": 69,
   "metadata": {
    "scrolled": true
   },
   "outputs": [
    {
     "data": {
      "text/plain": [
       "22"
      ]
     },
     "execution_count": 69,
     "metadata": {},
     "output_type": "execute_result"
    }
   ],
   "source": [
    "a = 10\n",
    "b = 2\n",
    "a * b + b"
   ]
  },
  {
   "cell_type": "code",
   "execution_count": 70,
   "metadata": {
    "scrolled": true
   },
   "outputs": [],
   "source": [
    "c = a * b + b"
   ]
  },
  {
   "cell_type": "code",
   "execution_count": 71,
   "metadata": {
    "scrolled": true
   },
   "outputs": [
    {
     "name": "stdout",
     "output_type": "stream",
     "text": [
      "22\n"
     ]
    }
   ],
   "source": [
    "print(c)"
   ]
  },
  {
   "cell_type": "markdown",
   "metadata": {},
   "source": [
    "### Strings\n",
    "\n",
    "Python's built-in operators also provide an easy was to join two strings together using the addition operator."
   ]
  },
  {
   "cell_type": "code",
   "execution_count": 72,
   "metadata": {
    "scrolled": true
   },
   "outputs": [
    {
     "data": {
      "text/plain": [
       "'abcdef'"
      ]
     },
     "execution_count": 72,
     "metadata": {},
     "output_type": "execute_result"
    }
   ],
   "source": [
    "'abc' + 'def'"
   ]
  },
  {
   "cell_type": "code",
   "execution_count": 73,
   "metadata": {
    "scrolled": true
   },
   "outputs": [
    {
     "name": "stdout",
     "output_type": "stream",
     "text": [
      "Hello world!\n"
     ]
    }
   ],
   "source": [
    "message1 = 'Hello '\n",
    "message2 = 'world!'\n",
    "message3 = message1 + message2\n",
    "print(message3)"
   ]
  },
  {
   "cell_type": "markdown",
   "metadata": {},
   "source": [
    "Notice, however, that attempting to add a string and a number will yield an error."
   ]
  },
  {
   "cell_type": "code",
   "execution_count": 74,
   "metadata": {
    "scrolled": true,
    "tags": [
     "raises-exception"
    ]
   },
   "outputs": [
    {
     "ename": "TypeError",
     "evalue": "can only concatenate str (not \"int\") to str",
     "output_type": "error",
     "traceback": [
      "\u001b[0;31m---------------------------------------------------------------------------\u001b[0m",
      "\u001b[0;31mTypeError\u001b[0m                                 Traceback (most recent call last)",
      "\u001b[0;32m<ipython-input-74-e043c3f5b3f0>\u001b[0m in \u001b[0;36m<module>\u001b[0;34m\u001b[0m\n\u001b[0;32m----> 1\u001b[0;31m \u001b[0;34m'one'\u001b[0m \u001b[0;34m+\u001b[0m \u001b[0;36m1\u001b[0m\u001b[0;34m\u001b[0m\u001b[0;34m\u001b[0m\u001b[0m\n\u001b[0m",
      "\u001b[0;31mTypeError\u001b[0m: can only concatenate str (not \"int\") to str"
     ]
    }
   ],
   "source": [
    "'one' + 1"
   ]
  },
  {
   "cell_type": "markdown",
   "metadata": {},
   "source": [
    "### Relational operators\n",
    "\n",
    "This next set of operators are used to compare two values, and the output of an expression involving them is always a boolean. The include:\n",
    "\n",
    "- ```>```: greater than\n",
    "- ```>=```: greater that or equal to\n",
    "- ``` <```: less than\n",
    "- ```<=```: less than or equal to\n",
    "- ```==```: equals\n",
    "- ```!=```: not equals\n",
    "\n",
    "All six of these can be used on numeric type data, and the final two (equals and not equals) can be used on string type data. Let's see them in action:"
   ]
  },
  {
   "cell_type": "code",
   "execution_count": 75,
   "metadata": {
    "scrolled": true
   },
   "outputs": [
    {
     "data": {
      "text/plain": [
       "True"
      ]
     },
     "execution_count": 75,
     "metadata": {},
     "output_type": "execute_result"
    }
   ],
   "source": [
    "5 == 5"
   ]
  },
  {
   "cell_type": "code",
   "execution_count": 76,
   "metadata": {
    "scrolled": true
   },
   "outputs": [
    {
     "data": {
      "text/plain": [
       "False"
      ]
     },
     "execution_count": 76,
     "metadata": {},
     "output_type": "execute_result"
    }
   ],
   "source": [
    "10 < 2"
   ]
  },
  {
   "cell_type": "code",
   "execution_count": 77,
   "metadata": {
    "scrolled": true
   },
   "outputs": [
    {
     "data": {
      "text/plain": [
       "True"
      ]
     },
     "execution_count": 77,
     "metadata": {},
     "output_type": "execute_result"
    }
   ],
   "source": [
    "6 != 7"
   ]
  },
  {
   "cell_type": "code",
   "execution_count": 78,
   "metadata": {
    "scrolled": true
   },
   "outputs": [
    {
     "data": {
      "text/plain": [
       "True"
      ]
     },
     "execution_count": 78,
     "metadata": {},
     "output_type": "execute_result"
    }
   ],
   "source": [
    "\"Hello\" == \"Hello\""
   ]
  },
  {
   "cell_type": "code",
   "execution_count": 79,
   "metadata": {
    "scrolled": true
   },
   "outputs": [
    {
     "data": {
      "text/plain": [
       "False"
      ]
     },
     "execution_count": 79,
     "metadata": {},
     "output_type": "execute_result"
    }
   ],
   "source": [
    "\"Hello\" == \"Bonjour\""
   ]
  },
  {
   "cell_type": "code",
   "execution_count": 80,
   "metadata": {
    "scrolled": true
   },
   "outputs": [
    {
     "data": {
      "text/plain": [
       "False"
      ]
     },
     "execution_count": 80,
     "metadata": {},
     "output_type": "execute_result"
    }
   ],
   "source": [
    "\"hello\" == \"Hello\""
   ]
  },
  {
   "cell_type": "markdown",
   "metadata": {},
   "source": [
    "Notice that string equality is case sensitive.\n",
    "\n",
    "In the cell below, I've defined two variables, ```a``` and ```b```. Write three expressions in the empy cells to check wheter a is greater than zero, whether b is greater than or equal to zero, and whether a times b is less than zero."
   ]
  },
  {
   "cell_type": "code",
   "execution_count": 81,
   "metadata": {
    "scrolled": true
   },
   "outputs": [],
   "source": [
    "a = 10\n",
    "b = -1"
   ]
  },
  {
   "cell_type": "code",
   "execution_count": 82,
   "metadata": {
    "scrolled": true
   },
   "outputs": [],
   "source": [
    "#is a greater than zero? enter your code below this line"
   ]
  },
  {
   "cell_type": "code",
   "execution_count": 83,
   "metadata": {
    "scrolled": true
   },
   "outputs": [],
   "source": [
    "#is b greater than or equal to zero? enter your code below this line"
   ]
  },
  {
   "cell_type": "code",
   "execution_count": 84,
   "metadata": {
    "scrolled": true
   },
   "outputs": [],
   "source": [
    "#is a + b equal to zero? enter your code below this line"
   ]
  },
  {
   "cell_type": "markdown",
   "metadata": {},
   "source": [
    "### Logical operators\n",
    "\n",
    "We can combine multiple expressions with relational operators using the logical operators ```and``` and ```or```. Consider this expression:"
   ]
  },
  {
   "cell_type": "code",
   "execution_count": 85,
   "metadata": {
    "scrolled": true
   },
   "outputs": [
    {
     "data": {
      "text/plain": [
       "False"
      ]
     },
     "execution_count": 85,
     "metadata": {},
     "output_type": "execute_result"
    }
   ],
   "source": [
    "a = 20\n",
    "b = 30\n",
    "\n",
    "a > 25 and b > 25"
   ]
  },
  {
   "cell_type": "markdown",
   "metadata": {},
   "source": [
    "This expression would only evaluate to True if both a and b were greater than 25."
   ]
  },
  {
   "cell_type": "code",
   "execution_count": 86,
   "metadata": {
    "scrolled": true
   },
   "outputs": [
    {
     "data": {
      "text/plain": [
       "True"
      ]
     },
     "execution_count": 86,
     "metadata": {},
     "output_type": "execute_result"
    }
   ],
   "source": [
    "a > 25 or b > 25"
   ]
  },
  {
   "cell_type": "markdown",
   "metadata": {},
   "source": [
    "This expression will evaluate to True if either a or b was greater than 25. \n",
    "\n",
    "Finally, there is also a ```not``` operator that will negate a boolean value. For example:"
   ]
  },
  {
   "cell_type": "code",
   "execution_count": 87,
   "metadata": {
    "scrolled": true
   },
   "outputs": [
    {
     "data": {
      "text/plain": [
       "True"
      ]
     },
     "execution_count": 87,
     "metadata": {},
     "output_type": "execute_result"
    }
   ],
   "source": [
    "a = 5\n",
    "a > 0"
   ]
  },
  {
   "cell_type": "code",
   "execution_count": 88,
   "metadata": {
    "scrolled": true
   },
   "outputs": [
    {
     "data": {
      "text/plain": [
       "False"
      ]
     },
     "execution_count": 88,
     "metadata": {},
     "output_type": "execute_result"
    }
   ],
   "source": [
    "not a > 0"
   ]
  },
  {
   "cell_type": "markdown",
   "metadata": {},
   "source": [
    "The value of ```a``` is greater than zero, therefore the first expression evaluate to True. The not operator, however, negates this True value in the second expression, so the second expression produes False. Consider another example. Do you understand why the expression evaluates to be True?"
   ]
  },
  {
   "cell_type": "code",
   "execution_count": 89,
   "metadata": {
    "scrolled": true
   },
   "outputs": [
    {
     "data": {
      "text/plain": [
       "True"
      ]
     },
     "execution_count": 89,
     "metadata": {},
     "output_type": "execute_result"
    }
   ],
   "source": [
    "a = 5\n",
    "not a < 0"
   ]
  },
  {
   "cell_type": "markdown",
   "metadata": {},
   "source": [
    "Similar to arithmetic, you can (and should!) use parentheses in your expressions to clarify order of operations. The next expression checks that a is either less than or equal to zero or greater than or equal to 5."
   ]
  },
  {
   "cell_type": "code",
   "execution_count": 90,
   "metadata": {
    "scrolled": true
   },
   "outputs": [
    {
     "data": {
      "text/plain": [
       "False"
      ]
     },
     "execution_count": 90,
     "metadata": {},
     "output_type": "execute_result"
    }
   ],
   "source": [
    "not (a > 5 or 0 < a)"
   ]
  },
  {
   "cell_type": "markdown",
   "metadata": {},
   "source": [
    "The following expression will check whether a is greater than 0 or less than or equal to 5."
   ]
  },
  {
   "cell_type": "code",
   "execution_count": 91,
   "metadata": {
    "scrolled": true
   },
   "outputs": [
    {
     "data": {
      "text/plain": [
       "True"
      ]
     },
     "execution_count": 91,
     "metadata": {},
     "output_type": "execute_result"
    }
   ],
   "source": [
    " not a > 5 or a < 0"
   ]
  },
  {
   "cell_type": "markdown",
   "metadata": {},
   "source": [
    "# Control Flow\n",
    "\n",
    "So far, the programs we've written have been fairly simple and boring. Print a message, calculate a sum, etc. Control flow statements allow us to start writing more interesting programs. The three most commong types of control flow statements that you'll wee are:  \n",
    "\n",
    "- Conditional statements, or \"if\"/\"if-then-else statements,\" run a piece of code only if a certain condition is true.\n",
    "- Sequence-based loops, or \"for loops,\" run a piece of code repeatedly based on a set number of repetitions.\n",
    "- Condition-based loops, or \"while loops,\" run a piece of code repeatedly so long as a boolean condition is true.\n",
    "\n",
    "## If Statements\n",
    "\n",
    "For the first example, lets check with a number is even or odd."
   ]
  },
  {
   "cell_type": "code",
   "execution_count": 92,
   "metadata": {
    "scrolled": true
   },
   "outputs": [
    {
     "name": "stdout",
     "output_type": "stream",
     "text": [
      "7 is odd\n"
     ]
    }
   ],
   "source": [
    "n = 7\n",
    "if n % 2 == 1:\n",
    "    print(n, 'is odd')\n",
    "else:\n",
    "    print(n, 'is even')"
   ]
  },
  {
   "cell_type": "markdown",
   "metadata": {},
   "source": [
    "There are a few points to note in the previous example. First, lets look at the syntax of an if statement in python. They have the general form:  \n",
    "\n",
    "```\n",
    "if <boolean expression>:\n",
    "    <code to run if true>\n",
    "```\n",
    "\n",
    "We can also introduce variants of the above syntax that allow us to specify what to do if the boolean expression is false (as we did in the example).\n",
    "\n",
    "```\n",
    "if <boolean expression>:\n",
    "    <code to run if true>\n",
    "else:\n",
    "    <code to run if false>\n",
    "```\n",
    "\n",
    "Finally, we can also use a variant that allows us to check multiple conditions.\n",
    "\n",
    "```\n",
    "if <boolean expression #1>:\n",
    "    <code to run if expression #1 is true>\n",
    "elif <boolean expression #2>:\n",
    "    <code to run if expression #2 is true>\n",
    "elif <boolean expression #3>:\n",
    "    <code to run if expression #3 is true>\n",
    "...\n",
    "...\n",
    "...\n",
    "...\n",
    "else:\n",
    "    <code to run if all expressions are false>\n",
    "```\n",
    "\n",
    "It's important to note, however, for any if statement a maximum of one code block will run. More specifically, the first code block following a true boolean expression will run and then the interpreter will exit the statement. For example:"
   ]
  },
  {
   "cell_type": "code",
   "execution_count": 93,
   "metadata": {
    "scrolled": true
   },
   "outputs": [
    {
     "name": "stdout",
     "output_type": "stream",
     "text": [
      "6 is divisible by 2\n"
     ]
    }
   ],
   "source": [
    "n = 6\n",
    "if n % 2 == 0:\n",
    "    print(n, 'is divisible by 2')\n",
    "elif n % 3 == 0:\n",
    "    print(n, 'is divisible by 3')"
   ]
  },
  {
   "cell_type": "markdown",
   "metadata": {},
   "source": [
    "Despite the fact that n is divisible by both two and three, the program above only prints out that 6 is divisible by 2 because that is the first true boolean expression it finds. The correct way to write the above program would be to use multiple if statements, rather than an if statment with multiple branches."
   ]
  },
  {
   "cell_type": "code",
   "execution_count": 94,
   "metadata": {
    "scrolled": true
   },
   "outputs": [
    {
     "name": "stdout",
     "output_type": "stream",
     "text": [
      "6 is divisible by 2\n",
      "6 is divisible by 3\n"
     ]
    }
   ],
   "source": [
    "n = 6\n",
    "if n % 2 == 0:\n",
    "    print(n, 'is divisible by 2')\n",
    "if n % 3 == 0:\n",
    "    print(n, 'is divisible by 3')"
   ]
  },
  {
   "cell_type": "markdown",
   "metadata": {},
   "source": [
    "The second item worth noticing is how Python distinguishes between code blocks. While many other programming languages use curly braces ```{``` and ```}``` to distinguish between code blocks, Python uses indentation. Though you can technically pick any consistent indentation pattern to indicate a new block, the cannonical pattern is using four spaces to correspond to one level of indentation.  \n",
    "\n",
    "Python is incredibly picky about this which an at times result in some frustrting errors. For example:"
   ]
  },
  {
   "cell_type": "code",
   "execution_count": 95,
   "metadata": {
    "scrolled": true,
    "tags": [
     "raises-exception"
    ]
   },
   "outputs": [
    {
     "ename": "TabError",
     "evalue": "inconsistent use of tabs and spaces in indentation (<ipython-input-95-c6b2aeff1d66>, line 4)",
     "output_type": "error",
     "traceback": [
      "\u001b[0;36m  File \u001b[0;32m\"<ipython-input-95-c6b2aeff1d66>\"\u001b[0;36m, line \u001b[0;32m4\u001b[0m\n\u001b[0;31m    print('End of if statement')\u001b[0m\n\u001b[0m                                ^\u001b[0m\n\u001b[0;31mTabError\u001b[0m\u001b[0;31m:\u001b[0m inconsistent use of tabs and spaces in indentation\n"
     ]
    }
   ],
   "source": [
    "condition = True\n",
    "if condition:\n",
    "    print('The condition is true!')\n",
    "\tprint('End of if statement')"
   ]
  },
  {
   "cell_type": "markdown",
   "metadata": {},
   "source": [
    "On it's face, it looks like the above code should run without issue -- the indentation pattern appears to be the same. However, in the first line of code block four spaces are used to delimit the codeblock, but in the second line of the code block, a single tab character is used to delimit the codeblock. This issue is particularly common if you used multiple machines or multiple text editors on the same file. \n",
    "\n",
    "The third and final item worth noticing is that these print statements look different than what we were using before. In general, if we pass multiple values to a print statement and separte them by a comma, then all the values will be printed out in the order they were passed separated by a space. This can be super helpful and save you from having to manage string concatenations when printing out a value.\n",
    "\n",
    "Here is an example for you to try:\n",
    "- Write a conditional statement to check whether a number, ```n``` is positive, negative, or neither (i.e. equal to zero)\n",
    "\n",
    "After you write your program, modify the value of n to check that your statement is correct."
   ]
  },
  {
   "cell_type": "code",
   "execution_count": 96,
   "metadata": {
    "scrolled": true
   },
   "outputs": [],
   "source": [
    "n = 17\n",
    "### your code here"
   ]
  },
  {
   "cell_type": "markdown",
   "metadata": {},
   "source": [
    "## For loops\n",
    "\n",
    "For loops are a way to dynamically repeat code and avoid typing the same statement over an over again. We'll revisit for loops more talking about lists and other data structures, but for now it's enough for you to know that the basic syntax of a for loop in Python is:\n",
    "\n",
    "```\n",
    "for <variable name> in <sequence of values>:\n",
    "    <code to execute>\n",
    "```\n",
    "\n",
    "Let's look at this in practice. Let's pretend we're the owners of a thrift shop and our pricing scheme is to take the full price of an item and charge 12.5% of that full price. Suppose we have 10 items, with full prices $10, $25, $16, $17, $85, $35, $67, $75, $55, and $42. One way to use Python to solve this problem would be to write a separate statement for each price. "
   ]
  },
  {
   "cell_type": "code",
   "execution_count": 97,
   "metadata": {
    "scrolled": true
   },
   "outputs": [
    {
     "name": "stdout",
     "output_type": "stream",
     "text": [
      "1.25\n"
     ]
    }
   ],
   "source": [
    "print(10*.125)"
   ]
  },
  {
   "cell_type": "code",
   "execution_count": 98,
   "metadata": {
    "scrolled": true
   },
   "outputs": [
    {
     "name": "stdout",
     "output_type": "stream",
     "text": [
      "3.125\n"
     ]
    }
   ],
   "source": [
    "print(25*.125)"
   ]
  },
  {
   "cell_type": "code",
   "execution_count": 99,
   "metadata": {
    "scrolled": true
   },
   "outputs": [
    {
     "name": "stdout",
     "output_type": "stream",
     "text": [
      "2.0\n"
     ]
    }
   ],
   "source": [
    "print(16*.125)"
   ]
  },
  {
   "cell_type": "markdown",
   "metadata": {},
   "source": [
    "You can quickly see how this could become tedious. Another way to do this would be to use a for loop."
   ]
  },
  {
   "cell_type": "code",
   "execution_count": 100,
   "metadata": {
    "scrolled": true
   },
   "outputs": [
    {
     "name": "stdout",
     "output_type": "stream",
     "text": [
      "1.25\n",
      "3.125\n",
      "2.0\n",
      "2.125\n",
      "10.625\n",
      "4.375\n",
      "8.375\n",
      "9.375\n",
      "6.875\n",
      "5.25\n"
     ]
    }
   ],
   "source": [
    "for price in [10, 25, 16, 17, 85, 35, 67, 75, 55, 42]:\n",
    "    print(price * .125)"
   ]
  },
  {
   "cell_type": "markdown",
   "metadata": {},
   "source": [
    "Much faster (and much less typing)! Notice that we wrapped our sequence of prices in brackets; this item is called list and will be a major focus of the next Python Jam.  \n",
    "\n",
    "Let's talk about another use of for loops: doing something for every whole number in a range. For example, let's say I want to list out whether every number between 1 and 100 is divisible by 3. One way to do this would be to type out every number between 1 and 100. Thankfully, however, Python provides a function, called ```range()``` that will do this for us. To get every number between 1 and 100, we would use the function like this:"
   ]
  },
  {
   "cell_type": "code",
   "execution_count": 101,
   "metadata": {
    "scrolled": true
   },
   "outputs": [
    {
     "name": "stdout",
     "output_type": "stream",
     "text": [
      "1 is NOT divisible by 3\n",
      "2 is NOT divisible by 3\n",
      "3 is divisible by 3\n",
      "4 is NOT divisible by 3\n",
      "5 is NOT divisible by 3\n",
      "6 is divisible by 3\n",
      "7 is NOT divisible by 3\n",
      "8 is NOT divisible by 3\n",
      "9 is divisible by 3\n",
      "10 is NOT divisible by 3\n",
      "11 is NOT divisible by 3\n",
      "12 is divisible by 3\n",
      "13 is NOT divisible by 3\n",
      "14 is NOT divisible by 3\n",
      "15 is divisible by 3\n",
      "16 is NOT divisible by 3\n",
      "17 is NOT divisible by 3\n",
      "18 is divisible by 3\n",
      "19 is NOT divisible by 3\n",
      "20 is NOT divisible by 3\n",
      "21 is divisible by 3\n",
      "22 is NOT divisible by 3\n",
      "23 is NOT divisible by 3\n",
      "24 is divisible by 3\n",
      "25 is NOT divisible by 3\n",
      "26 is NOT divisible by 3\n",
      "27 is divisible by 3\n",
      "28 is NOT divisible by 3\n",
      "29 is NOT divisible by 3\n",
      "30 is divisible by 3\n",
      "31 is NOT divisible by 3\n",
      "32 is NOT divisible by 3\n",
      "33 is divisible by 3\n",
      "34 is NOT divisible by 3\n",
      "35 is NOT divisible by 3\n",
      "36 is divisible by 3\n",
      "37 is NOT divisible by 3\n",
      "38 is NOT divisible by 3\n",
      "39 is divisible by 3\n",
      "40 is NOT divisible by 3\n",
      "41 is NOT divisible by 3\n",
      "42 is divisible by 3\n",
      "43 is NOT divisible by 3\n",
      "44 is NOT divisible by 3\n",
      "45 is divisible by 3\n",
      "46 is NOT divisible by 3\n",
      "47 is NOT divisible by 3\n",
      "48 is divisible by 3\n",
      "49 is NOT divisible by 3\n",
      "50 is NOT divisible by 3\n",
      "51 is divisible by 3\n",
      "52 is NOT divisible by 3\n",
      "53 is NOT divisible by 3\n",
      "54 is divisible by 3\n",
      "55 is NOT divisible by 3\n",
      "56 is NOT divisible by 3\n",
      "57 is divisible by 3\n",
      "58 is NOT divisible by 3\n",
      "59 is NOT divisible by 3\n",
      "60 is divisible by 3\n",
      "61 is NOT divisible by 3\n",
      "62 is NOT divisible by 3\n",
      "63 is divisible by 3\n",
      "64 is NOT divisible by 3\n",
      "65 is NOT divisible by 3\n",
      "66 is divisible by 3\n",
      "67 is NOT divisible by 3\n",
      "68 is NOT divisible by 3\n",
      "69 is divisible by 3\n",
      "70 is NOT divisible by 3\n",
      "71 is NOT divisible by 3\n",
      "72 is divisible by 3\n",
      "73 is NOT divisible by 3\n",
      "74 is NOT divisible by 3\n",
      "75 is divisible by 3\n",
      "76 is NOT divisible by 3\n",
      "77 is NOT divisible by 3\n",
      "78 is divisible by 3\n",
      "79 is NOT divisible by 3\n",
      "80 is NOT divisible by 3\n",
      "81 is divisible by 3\n",
      "82 is NOT divisible by 3\n",
      "83 is NOT divisible by 3\n",
      "84 is divisible by 3\n",
      "85 is NOT divisible by 3\n",
      "86 is NOT divisible by 3\n",
      "87 is divisible by 3\n",
      "88 is NOT divisible by 3\n",
      "89 is NOT divisible by 3\n",
      "90 is divisible by 3\n",
      "91 is NOT divisible by 3\n",
      "92 is NOT divisible by 3\n",
      "93 is divisible by 3\n",
      "94 is NOT divisible by 3\n",
      "95 is NOT divisible by 3\n",
      "96 is divisible by 3\n",
      "97 is NOT divisible by 3\n",
      "98 is NOT divisible by 3\n",
      "99 is divisible by 3\n",
      "100 is NOT divisible by 3\n"
     ]
    }
   ],
   "source": [
    "for i in range(1, 101):\n",
    "    if i % 3 == 0:\n",
    "        print(i, 'is divisible by 3')\n",
    "    else:\n",
    "        print(i, 'is NOT divisible by 3')"
   ]
  },
  {
   "cell_type": "markdown",
   "metadata": {},
   "source": [
    "Notice that the lower bound of the range function is inclusive while the upper bound is not.\n",
    "\n",
    "Now, try writing a program using a for loop to calculate 9! (i.e. 9 x 8 x 7...x 1):"
   ]
  },
  {
   "cell_type": "code",
   "execution_count": 102,
   "metadata": {
    "scrolled": true
   },
   "outputs": [
    {
     "name": "stdout",
     "output_type": "stream",
     "text": [
      "362880\n"
     ]
    }
   ],
   "source": [
    "result = 1\n",
    "for num in range(1, 10):\n",
    "    result = result * num\n",
    "print(result)"
   ]
  },
  {
   "cell_type": "markdown",
   "metadata": {},
   "source": [
    "## While loops\n",
    "\n",
    "While loops are a more simple type of loop that repeats an action so long as a condition remains true. The general syntax for a while loop is:\n",
    "\n",
    "```\n",
    "while <boolean expression>:\n",
    "    <code block>\n",
    "```\n",
    "\n",
    "Let's try rewriting our program to calculate 9! using a for loop."
   ]
  },
  {
   "cell_type": "code",
   "execution_count": 103,
   "metadata": {
    "scrolled": true
   },
   "outputs": [
    {
     "name": "stdout",
     "output_type": "stream",
     "text": [
      "362880\n"
     ]
    }
   ],
   "source": [
    "N = 9\n",
    "i = 1\n",
    "result = 1\n",
    "\n",
    "while i <= N:\n",
    "    result = i * result\n",
    "    i = i + 1\n",
    "\n",
    "print(result)"
   ]
  },
  {
   "cell_type": "markdown",
   "metadata": {},
   "source": [
    "Right now, while loops may simply seem like less clean for loops, however, as you start doing more advanced computations while loops will begin to become more useful."
   ]
  }
 ],
 "metadata": {
  "kernelspec": {
   "display_name": "Python 3",
   "language": "python",
   "name": "python3"
  },
  "language_info": {
   "codemirror_mode": {
    "name": "ipython",
    "version": 3
   },
   "file_extension": ".py",
   "mimetype": "text/x-python",
   "name": "python",
   "nbconvert_exporter": "python",
   "pygments_lexer": "ipython3",
   "version": "3.7.3"
  }
 },
 "nbformat": 4,
 "nbformat_minor": 2
}
