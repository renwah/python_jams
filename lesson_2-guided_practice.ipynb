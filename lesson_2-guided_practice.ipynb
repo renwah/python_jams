{
 "cells": [
  {
   "cell_type": "markdown",
   "metadata": {},
   "source": [
    "# Key Learning Results\n",
    "\n",
    "- I understand the differences between lists, dictionaries, and sets.\n",
    "- I can recall scenarios in which a list/dictionary/set is the appropriate data structure.\n",
    "- I feel comfortable definining, accessing, manipulating, and iterating over lists, dictionaries, and sets.\n",
    "- I understand the difference between how Python stores simple and complex data.\n",
    "\n",
    "# Lists\n",
    "\n",
    "The first data structure we'll cover is a list. In Python, a list is an *ordered* collection of data. Other programming languages often call their implementation of this data structure an array.\n",
    "\n",
    "To declare a list in Python, we include a name for the list, followed by the assignment operator (```=```), and the all the data we want in our list surrounded by brackets (```[``` and ```]```) and separated by commas. For example, to declare a list named ```lst``` that contains the values ```1```, ```2```, and ```3``` in that order, we would write the following:"
   ]
  },
  {
   "cell_type": "code",
   "execution_count": 1,
   "metadata": {},
   "outputs": [],
   "source": [
    "lst = [1, 2, 3]"
   ]
  },
  {
   "cell_type": "code",
   "execution_count": 2,
   "metadata": {},
   "outputs": [
    {
     "data": {
      "text/plain": [
       "[1, 2, 3]"
      ]
     },
     "execution_count": 2,
     "metadata": {},
     "output_type": "execute_result"
    }
   ],
   "source": [
    "lst"
   ]
  },
  {
   "cell_type": "markdown",
   "metadata": {},
   "source": [
    "Lists can contain multiple types of values in different positions."
   ]
  },
  {
   "cell_type": "code",
   "execution_count": 3,
   "metadata": {},
   "outputs": [],
   "source": [
    "lst2 = [\"one\", 2, 3.0]"
   ]
  },
  {
   "cell_type": "markdown",
   "metadata": {},
   "source": [
    "To access a value in a list, we type the name of the list followed by the position of the value we want to access in brackets. Python is a 0-indexed programming language, which means that it starts counting the positions in a list from 0 instead of 1. So we would use the following line of code to access the first item in ```lst```:"
   ]
  },
  {
   "cell_type": "code",
   "execution_count": 4,
   "metadata": {},
   "outputs": [
    {
     "data": {
      "text/plain": [
       "1"
      ]
     },
     "execution_count": 4,
     "metadata": {},
     "output_type": "execute_result"
    }
   ],
   "source": [
    "lst[0]"
   ]
  },
  {
   "cell_type": "markdown",
   "metadata": {},
   "source": [
    "And this line of code would access the second item in ```lst```:"
   ]
  },
  {
   "cell_type": "code",
   "execution_count": 5,
   "metadata": {},
   "outputs": [
    {
     "data": {
      "text/plain": [
       "2"
      ]
     },
     "execution_count": 5,
     "metadata": {},
     "output_type": "execute_result"
    }
   ],
   "source": [
    "lst[1]"
   ]
  },
  {
   "cell_type": "markdown",
   "metadata": {},
   "source": [
    "We can use a similar syntax to update values in our list. For example, if we want to make the values in ```lst2``` the same as the values in ```lst```, we could first update the first value in ```lst2``` like this:"
   ]
  },
  {
   "cell_type": "code",
   "execution_count": 6,
   "metadata": {},
   "outputs": [],
   "source": [
    "lst2[0] = 1"
   ]
  },
  {
   "cell_type": "markdown",
   "metadata": {},
   "source": [
    "And then update the third value in ```lst2``` like this:"
   ]
  },
  {
   "cell_type": "code",
   "execution_count": 7,
   "metadata": {},
   "outputs": [],
   "source": [
    "lst2[2] = 3"
   ]
  },
  {
   "cell_type": "markdown",
   "metadata": {},
   "source": [
    "Now, we can check that ```lst``` and ```lst2``` are exactly alike."
   ]
  },
  {
   "cell_type": "code",
   "execution_count": 8,
   "metadata": {},
   "outputs": [
    {
     "data": {
      "text/plain": [
       "[1, 2, 3]"
      ]
     },
     "execution_count": 8,
     "metadata": {},
     "output_type": "execute_result"
    }
   ],
   "source": [
    "lst"
   ]
  },
  {
   "cell_type": "code",
   "execution_count": 9,
   "metadata": {},
   "outputs": [
    {
     "data": {
      "text/plain": [
       "[1, 2, 3]"
      ]
     },
     "execution_count": 9,
     "metadata": {},
     "output_type": "execute_result"
    }
   ],
   "source": [
    "lst2"
   ]
  },
  {
   "cell_type": "markdown",
   "metadata": {},
   "source": [
    "If we wanted to add an additional element to ```lst``` or ```lst2```, there are two different methods we could use. If we wanted to add the element to the end of ```lst```, we would use ```.append(..)```. Adding the number ```4``` to the end of ```lst``` looks like this:"
   ]
  },
  {
   "cell_type": "code",
   "execution_count": 10,
   "metadata": {},
   "outputs": [],
   "source": [
    "lst.append(4)"
   ]
  },
  {
   "cell_type": "code",
   "execution_count": 11,
   "metadata": {},
   "outputs": [
    {
     "data": {
      "text/plain": [
       "[1, 2, 3, 4]"
      ]
     },
     "execution_count": 11,
     "metadata": {},
     "output_type": "execute_result"
    }
   ],
   "source": [
    "lst"
   ]
  },
  {
   "cell_type": "markdown",
   "metadata": {},
   "source": [
    "Alternatively, if we wanted to add a value in a specific location, we would use ```.insert(..)```. Adding the number ```2.5``` between ```2``` and ```3``` in ```lst2``` would look like this:"
   ]
  },
  {
   "cell_type": "code",
   "execution_count": 12,
   "metadata": {},
   "outputs": [],
   "source": [
    "lst2.insert(2, 2.5)"
   ]
  },
  {
   "cell_type": "code",
   "execution_count": 13,
   "metadata": {},
   "outputs": [
    {
     "data": {
      "text/plain": [
       "[1, 2, 2.5, 3]"
      ]
     },
     "execution_count": 13,
     "metadata": {},
     "output_type": "execute_result"
    }
   ],
   "source": [
    "lst2"
   ]
  },
  {
   "cell_type": "markdown",
   "metadata": {},
   "source": [
    "Notice that the first argument we pass to ```.insert(..)``` is the position we would like our new value to be in after it is added, and the second argument is the value that we would like to add.  \n",
    "\n",
    "Furthermore, there are thre ways that we can remove a value from a list. The first, ```.pop(..)```, is useful if we'd like to use the value for something else. This method can be used to remove the value ```3``` from ```lst``` by passing its position in the list to ```.pop(..)```:"
   ]
  },
  {
   "cell_type": "code",
   "execution_count": 14,
   "metadata": {},
   "outputs": [],
   "source": [
    "a = lst.pop(2)"
   ]
  },
  {
   "cell_type": "code",
   "execution_count": 15,
   "metadata": {},
   "outputs": [
    {
     "data": {
      "text/plain": [
       "3"
      ]
     },
     "execution_count": 15,
     "metadata": {},
     "output_type": "execute_result"
    }
   ],
   "source": [
    "a"
   ]
  },
  {
   "cell_type": "code",
   "execution_count": 16,
   "metadata": {},
   "outputs": [
    {
     "data": {
      "text/plain": [
       "[1, 2, 4]"
      ]
     },
     "execution_count": 16,
     "metadata": {},
     "output_type": "execute_result"
    }
   ],
   "source": [
    "lst"
   ]
  },
  {
   "cell_type": "markdown",
   "metadata": {},
   "source": [
    "As we can see, the value of ```a``` is now ```3```, which was formerly in the third positition (remember ```lst``` is 0-indexed). We can also used ```del``` if we have no further use for the value. To remove the value 2.5 from ```lst2```, we would do the following:"
   ]
  },
  {
   "cell_type": "code",
   "execution_count": 17,
   "metadata": {},
   "outputs": [],
   "source": [
    "del lst2[2]"
   ]
  },
  {
   "cell_type": "code",
   "execution_count": 18,
   "metadata": {},
   "outputs": [
    {
     "data": {
      "text/plain": [
       "[1, 2, 3]"
      ]
     },
     "execution_count": 18,
     "metadata": {},
     "output_type": "execute_result"
    }
   ],
   "source": [
    "lst2"
   ]
  },
  {
   "cell_type": "markdown",
   "metadata": {},
   "source": [
    "Finally, if we'd like to remove a value but don't know its position, we can use ```.remove(..)```. To remove the value 2 from the previous list, we would pass the value 2 as an argument to ```.remove(..)``` as follows:"
   ]
  },
  {
   "cell_type": "code",
   "execution_count": 19,
   "metadata": {},
   "outputs": [],
   "source": [
    "lst2.remove(2)"
   ]
  },
  {
   "cell_type": "code",
   "execution_count": 20,
   "metadata": {},
   "outputs": [
    {
     "data": {
      "text/plain": [
       "[1, 3]"
      ]
     },
     "execution_count": 20,
     "metadata": {},
     "output_type": "execute_result"
    }
   ],
   "source": [
    "lst2"
   ]
  },
  {
   "cell_type": "markdown",
   "metadata": {},
   "source": [
    "If the same value appears in a list more than once, then ```.remove(..)``` will remove the first instance of that value, starting from position 0."
   ]
  },
  {
   "cell_type": "markdown",
   "metadata": {},
   "source": [
    "## Useful functions\n",
    "\n",
    "There are also a number of useful functions that we can apply to a list. These include:\n",
    "-  ```.sort(..)```, which modifies a list so that its values are in ascending order\n",
    "- ```sum(..)```, which calculates the sum of a list containing only numeric types\n",
    "- ```min(..)```, which returns the smallest value in a list (as determined by the < operator)\n",
    "- ```max(..)```, which returns the largest value in a list (as determined by the > operator)\n",
    "- ```len(..)```, which returns the length of a list\n",
    "\n",
    "Below are some examples of these functions in use:"
   ]
  },
  {
   "cell_type": "code",
   "execution_count": 21,
   "metadata": {},
   "outputs": [
    {
     "data": {
      "text/plain": [
       "[43, 7, 1, -98, 189]"
      ]
     },
     "execution_count": 21,
     "metadata": {},
     "output_type": "execute_result"
    }
   ],
   "source": [
    "new_list = [43, 7, 1, -98, 189]\n",
    "new_list"
   ]
  },
  {
   "cell_type": "code",
   "execution_count": 22,
   "metadata": {},
   "outputs": [
    {
     "data": {
      "text/plain": [
       "[-98, 1, 7, 43, 189]"
      ]
     },
     "execution_count": 22,
     "metadata": {},
     "output_type": "execute_result"
    }
   ],
   "source": [
    "new_list.sort()\n",
    "new_list"
   ]
  },
  {
   "cell_type": "code",
   "execution_count": 23,
   "metadata": {},
   "outputs": [
    {
     "data": {
      "text/plain": [
       "142"
      ]
     },
     "execution_count": 23,
     "metadata": {},
     "output_type": "execute_result"
    }
   ],
   "source": [
    "sum(new_list)"
   ]
  },
  {
   "cell_type": "code",
   "execution_count": 24,
   "metadata": {},
   "outputs": [
    {
     "data": {
      "text/plain": [
       "-98"
      ]
     },
     "execution_count": 24,
     "metadata": {},
     "output_type": "execute_result"
    }
   ],
   "source": [
    "min(new_list)"
   ]
  },
  {
   "cell_type": "code",
   "execution_count": 25,
   "metadata": {},
   "outputs": [
    {
     "data": {
      "text/plain": [
       "189"
      ]
     },
     "execution_count": 25,
     "metadata": {},
     "output_type": "execute_result"
    }
   ],
   "source": [
    "max(new_list)"
   ]
  },
  {
   "cell_type": "code",
   "execution_count": 26,
   "metadata": {},
   "outputs": [
    {
     "data": {
      "text/plain": [
       "5"
      ]
     },
     "execution_count": 26,
     "metadata": {},
     "output_type": "execute_result"
    }
   ],
   "source": [
    "len(new_list)"
   ]
  },
  {
   "cell_type": "markdown",
   "metadata": {},
   "source": [
    "Notice in the above examples that ```.sort(..)``` changes the list itself instead of returning a new, sorted list.  \n",
    "\n",
    "## Iterating over lists\n",
    "\n",
    "Now that we've covered lists more, let's briefly return to for loops. The syntax for iterating over all the values in a list is incredibly simple:\n",
    "\n",
    "```\n",
    "for <variable_name> in <list name>:\n",
    "    <do something>\n",
    "```\n",
    "\n",
    "For example, let's define ```lst``` to be all the letters from ```a``` to ```f``` and print out each letter with a for loop."
   ]
  },
  {
   "cell_type": "code",
   "execution_count": 27,
   "metadata": {},
   "outputs": [
    {
     "name": "stdout",
     "output_type": "stream",
     "text": [
      "a\n",
      "b\n",
      "c\n",
      "d\n",
      "e\n",
      "f\n"
     ]
    }
   ],
   "source": [
    "lst = ['a', 'b', 'c', 'd', 'e', 'f']\n",
    "for letter in lst:\n",
    "    print(letter)"
   ]
  },
  {
   "cell_type": "markdown",
   "metadata": {},
   "source": [
    "If we need to peform an action for every item in a list but don't actually need the values stored at each location, we can also use this syntax:\n",
    "\n",
    "```\n",
    "for <variable_name> in range(len(<list name>):\n",
    "    <do something>\n",
    "```\n",
    "\n",
    "For example, let's print out the statement 'Hello!' for every letter in ```lst```."
   ]
  },
  {
   "cell_type": "code",
   "execution_count": 28,
   "metadata": {},
   "outputs": [
    {
     "name": "stdout",
     "output_type": "stream",
     "text": [
      "Hello!\n",
      "Hello!\n",
      "Hello!\n",
      "Hello!\n",
      "Hello!\n",
      "Hello!\n"
     ]
    }
   ],
   "source": [
    "for i in range(len(lst)):\n",
    "    print('Hello!')"
   ]
  },
  {
   "cell_type": "markdown",
   "metadata": {},
   "source": [
    "Finally, if we need to perform an action for every item in a list and need both the position and the value, we can use the following syntax, which employs the enumerate function:\n",
    "\n",
    "```\n",
    "for <position variable name>, <value variable name> in enumerate(<list name>):\n",
    "    <do something>\n",
    "```\n",
    "\n",
    "This syntax can be particularly useful if the action you're performing depends on the position of the value in ```lst```. For example, let's print out each letter in our list, followed by whether its position is even or odd:"
   ]
  },
  {
   "cell_type": "code",
   "execution_count": 29,
   "metadata": {},
   "outputs": [
    {
     "name": "stdout",
     "output_type": "stream",
     "text": [
      "a - even\n",
      "b - odd\n",
      "c - even\n",
      "d - odd\n",
      "e - even\n",
      "f - odd\n"
     ]
    }
   ],
   "source": [
    "for pos, letter in enumerate(lst):\n",
    "    if pos % 2 == 0:\n",
    "        even_or_odd = 'even'\n",
    "    else:\n",
    "        even_or_odd = 'odd'\n",
    "    print('{} - {}'.format(letter, even_or_odd))"
   ]
  },
  {
   "cell_type": "markdown",
   "metadata": {},
   "source": [
    "## Storage in memory\n",
    "\n",
    "The way Python stores lists in memory is slightly different than how it store simple variable types, suchs as integers or strings. While this difference may seem like a technical aside, it actually has important consequences for working with lists.  \n",
    "\n",
    "When we define a simple variable, Python stores the value of the variable at a certain point in memory. For example, the following line of code yields the following result in memory:"
   ]
  },
  {
   "cell_type": "code",
   "execution_count": 30,
   "metadata": {},
   "outputs": [],
   "source": [
    "my_num = 32.3"
   ]
  },
  {
   "cell_type": "markdown",
   "metadata": {},
   "source": [
    "![Figure 1](lesson2_res/figure_1.png)\n",
    "\n",
    "\n",
    "Then, if we set another variabe, ```my_num2``` equal to ```my_num```, this would be the result in memory:"
   ]
  },
  {
   "cell_type": "code",
   "execution_count": 31,
   "metadata": {},
   "outputs": [],
   "source": [
    "my_num2 = my_num"
   ]
  },
  {
   "cell_type": "markdown",
   "metadata": {},
   "source": [
    "![Figure 2](lesson2_res/figure_2.png)\n",
    "\n",
    "Python store the same value as ```my_num``` in a new location associated with ```my_num2```. Since these are separate locations, we can modify ```my_num2``` without modifying ```my_num``` or vice versa. For example:"
   ]
  },
  {
   "cell_type": "code",
   "execution_count": 32,
   "metadata": {},
   "outputs": [],
   "source": [
    "my_num = 43.7"
   ]
  },
  {
   "cell_type": "markdown",
   "metadata": {},
   "source": [
    "![Figure 3](lesson2_res/figure_3.png)"
   ]
  },
  {
   "cell_type": "code",
   "execution_count": 33,
   "metadata": {},
   "outputs": [],
   "source": [
    "my_num2 = 25.2"
   ]
  },
  {
   "cell_type": "markdown",
   "metadata": {},
   "source": [
    "![Figure 4](lesson2_res/figure_4.png)\n",
    "\n",
    "With complex data structures designed to store a collection of values (as opposed to a single value), Python stores them somewhat differently. If we define a list, Python acutally stores the list in a different part of memory called the heap and places a reference to that location in the heap in the direct memory location associated with the list. Below is what definining a list looks like in memory."
   ]
  },
  {
   "cell_type": "code",
   "execution_count": 34,
   "metadata": {},
   "outputs": [],
   "source": [
    "my_list = ['abc', 123, 'do-re-mi']"
   ]
  },
  {
   "cell_type": "markdown",
   "metadata": {},
   "source": [
    "![Figure 5](lesson2_res/figure_5.png)\n",
    "\n",
    "Now, if we set another another list ```my_list2``` equal to ```my_list```, Python copies the reference to the heap location associated with ```my_list```. It does NOT actually create a copy of the list."
   ]
  },
  {
   "cell_type": "code",
   "execution_count": 35,
   "metadata": {},
   "outputs": [],
   "source": [
    "my_list2 = my_list"
   ]
  },
  {
   "cell_type": "markdown",
   "metadata": {},
   "source": [
    "![Figure 6](lesson2_res/figure_6.png)\n",
    "\n",
    "As a result, any changes that we make to ```my_list2``` will also affect ```my_list``` and vice versa because their references point to the same object in the heap. For example:"
   ]
  },
  {
   "cell_type": "code",
   "execution_count": 36,
   "metadata": {},
   "outputs": [],
   "source": [
    "my_list2[2] = 'fa-sol-la'"
   ]
  },
  {
   "cell_type": "markdown",
   "metadata": {},
   "source": [
    "![Figure 7](lesson2_res/figure_7.png)"
   ]
  },
  {
   "cell_type": "code",
   "execution_count": 37,
   "metadata": {},
   "outputs": [],
   "source": [
    "my_list.remove('abc')"
   ]
  },
  {
   "cell_type": "markdown",
   "metadata": {},
   "source": [
    "![Figure 8](lesson2_res/figure_8.png)\n",
    "\n",
    "To copy the values of ```my_list``` into a new location in the heap, we would either need to write out all the values by hand or use the ```.copy()``` function."
   ]
  },
  {
   "cell_type": "code",
   "execution_count": 38,
   "metadata": {},
   "outputs": [],
   "source": [
    "my_list3 = [123, \"fa-sol-la\"]\n",
    "my_list4 = my_list.copy()"
   ]
  },
  {
   "cell_type": "markdown",
   "metadata": {},
   "source": [
    "![Figure 9](lesson2_res/figure_9.png)"
   ]
  },
  {
   "cell_type": "markdown",
   "metadata": {},
   "source": [
    "We can now edit ```my_list3``` or ```my_list4``` without affecting any other list."
   ]
  },
  {
   "cell_type": "code",
   "execution_count": 39,
   "metadata": {},
   "outputs": [
    {
     "data": {
      "text/plain": [
       "'fa-sol-la'"
      ]
     },
     "execution_count": 39,
     "metadata": {},
     "output_type": "execute_result"
    }
   ],
   "source": [
    "my_list3.pop(1)"
   ]
  },
  {
   "cell_type": "markdown",
   "metadata": {},
   "source": [
    "![Figure 10](lesson2_res/figure_10.png)"
   ]
  },
  {
   "cell_type": "code",
   "execution_count": 40,
   "metadata": {},
   "outputs": [],
   "source": [
    "my_list4[0] = [456]"
   ]
  },
  {
   "cell_type": "markdown",
   "metadata": {},
   "source": [
    "![Figure 11](lesson2_res/figure_11.png)\n",
    "\n",
    "To check whether two lists are referencing the same location in heap memory, we can use the ```is``` operator. From above, we know that ```my_list``` and ```my_list2``` reference the same location, so the following line will evaluate to True."
   ]
  },
  {
   "cell_type": "code",
   "execution_count": 41,
   "metadata": {},
   "outputs": [
    {
     "data": {
      "text/plain": [
       "True"
      ]
     },
     "execution_count": 41,
     "metadata": {},
     "output_type": "execute_result"
    }
   ],
   "source": [
    "my_list is my_list2"
   ]
  },
  {
   "cell_type": "markdown",
   "metadata": {},
   "source": [
    "But if we copy the values of ```my_list``` into ```my_list5``` using the ```.copy()``` function, then the expression  \n",
    "```my_list is my_list5```\n",
    "\n",
    "will evaluate to fales since the ```.copy()``` function creates a new object in heap memory."
   ]
  },
  {
   "cell_type": "code",
   "execution_count": 42,
   "metadata": {},
   "outputs": [
    {
     "data": {
      "text/plain": [
       "False"
      ]
     },
     "execution_count": 42,
     "metadata": {},
     "output_type": "execute_result"
    }
   ],
   "source": [
    "my_list5 = my_list.copy()\n",
    "my_list is my_list5"
   ]
  },
  {
   "cell_type": "markdown",
   "metadata": {},
   "source": [
    "The equality operator, ```==```, which we saw in the previous lesson, does not check wheter two lists reference the same location in memory and instead goes though each list position by position to see wheter the values at each position are the same."
   ]
  },
  {
   "cell_type": "code",
   "execution_count": 43,
   "metadata": {},
   "outputs": [
    {
     "data": {
      "text/plain": [
       "[123, 'fa-sol-la']"
      ]
     },
     "execution_count": 43,
     "metadata": {},
     "output_type": "execute_result"
    }
   ],
   "source": [
    "my_list"
   ]
  },
  {
   "cell_type": "code",
   "execution_count": 44,
   "metadata": {},
   "outputs": [
    {
     "data": {
      "text/plain": [
       "[123, 'fa-sol-la']"
      ]
     },
     "execution_count": 44,
     "metadata": {},
     "output_type": "execute_result"
    }
   ],
   "source": [
    "my_list2"
   ]
  },
  {
   "cell_type": "code",
   "execution_count": 45,
   "metadata": {},
   "outputs": [
    {
     "data": {
      "text/plain": [
       "[123, 'fa-sol-la']"
      ]
     },
     "execution_count": 45,
     "metadata": {},
     "output_type": "execute_result"
    }
   ],
   "source": [
    "my_list5"
   ]
  },
  {
   "cell_type": "code",
   "execution_count": 46,
   "metadata": {},
   "outputs": [
    {
     "data": {
      "text/plain": [
       "True"
      ]
     },
     "execution_count": 46,
     "metadata": {},
     "output_type": "execute_result"
    }
   ],
   "source": [
    "my_list == my_list2"
   ]
  },
  {
   "cell_type": "code",
   "execution_count": 47,
   "metadata": {},
   "outputs": [
    {
     "data": {
      "text/plain": [
       "True"
      ]
     },
     "execution_count": 47,
     "metadata": {},
     "output_type": "execute_result"
    }
   ],
   "source": [
    "my_list == my_list5"
   ]
  },
  {
   "cell_type": "code",
   "execution_count": 48,
   "metadata": {},
   "outputs": [
    {
     "data": {
      "text/plain": [
       "[123]"
      ]
     },
     "execution_count": 48,
     "metadata": {},
     "output_type": "execute_result"
    }
   ],
   "source": [
    "my_list3"
   ]
  },
  {
   "cell_type": "code",
   "execution_count": 49,
   "metadata": {},
   "outputs": [
    {
     "data": {
      "text/plain": [
       "False"
      ]
     },
     "execution_count": 49,
     "metadata": {},
     "output_type": "execute_result"
    }
   ],
   "source": [
    "my_list == my_list3"
   ]
  },
  {
   "cell_type": "markdown",
   "metadata": {},
   "source": [
    "## Slicing\n",
    "\n",
    "Lastly, it's also possible to access multiple values of a list at one time through a feature called slicing. First, let's define a list with the numbers 1 through 10."
   ]
  },
  {
   "cell_type": "code",
   "execution_count": 50,
   "metadata": {},
   "outputs": [],
   "source": [
    "lst = list(range(1,11))"
   ]
  },
  {
   "cell_type": "code",
   "execution_count": 51,
   "metadata": {},
   "outputs": [
    {
     "data": {
      "text/plain": [
       "[1, 2, 3, 4, 5, 6, 7, 8, 9, 10]"
      ]
     },
     "execution_count": 51,
     "metadata": {},
     "output_type": "execute_result"
    }
   ],
   "source": [
    "lst"
   ]
  },
  {
   "cell_type": "markdown",
   "metadata": {},
   "source": [
    "The syntax for creating a slice is:\n",
    "\n",
    "```\n",
    "<list name>[<first position>, <last position plus one>, <step size (optional)>]\n",
    "```\n",
    "\n",
    "For example, to access the first five values in lst:"
   ]
  },
  {
   "cell_type": "code",
   "execution_count": 52,
   "metadata": {},
   "outputs": [
    {
     "data": {
      "text/plain": [
       "[1, 2, 3, 4, 5]"
      ]
     },
     "execution_count": 52,
     "metadata": {},
     "output_type": "execute_result"
    }
   ],
   "source": [
    "lst[0:5]"
   ]
  },
  {
   "cell_type": "markdown",
   "metadata": {},
   "source": [
    "To access every third value from the first first six values in lst:"
   ]
  },
  {
   "cell_type": "code",
   "execution_count": 53,
   "metadata": {},
   "outputs": [
    {
     "data": {
      "text/plain": [
       "[1, 4]"
      ]
     },
     "execution_count": 53,
     "metadata": {},
     "output_type": "execute_result"
    }
   ],
   "source": [
    "lst[0:6:3]"
   ]
  },
  {
   "cell_type": "markdown",
   "metadata": {},
   "source": [
    "We can also use a negative value for our step size to access our list in reverse. For example, to get the last 5 values from our list in reverse order:"
   ]
  },
  {
   "cell_type": "code",
   "execution_count": 54,
   "metadata": {},
   "outputs": [
    {
     "data": {
      "text/plain": [
       "[10, 9, 8, 7, 6]"
      ]
     },
     "execution_count": 54,
     "metadata": {},
     "output_type": "execute_result"
    }
   ],
   "source": [
    "lst[len(lst): len(lst) - 6: -1]"
   ]
  },
  {
   "cell_type": "markdown",
   "metadata": {},
   "source": [
    "If we assign a new list to be equal to a slice of an existing list, then this creates a new object in the heap."
   ]
  },
  {
   "cell_type": "code",
   "execution_count": 55,
   "metadata": {},
   "outputs": [
    {
     "data": {
      "text/plain": [
       "[1, 2, 3, 4, 5, 6, 7, 8, 9, 10]"
      ]
     },
     "execution_count": 55,
     "metadata": {},
     "output_type": "execute_result"
    }
   ],
   "source": [
    "lst"
   ]
  },
  {
   "cell_type": "code",
   "execution_count": 56,
   "metadata": {},
   "outputs": [
    {
     "data": {
      "text/plain": [
       "[3, 4, 5]"
      ]
     },
     "execution_count": 56,
     "metadata": {},
     "output_type": "execute_result"
    }
   ],
   "source": [
    "slc = lst[2:5]\n",
    "slc"
   ]
  },
  {
   "cell_type": "code",
   "execution_count": 57,
   "metadata": {},
   "outputs": [],
   "source": [
    "slc[0] = 'changed value'"
   ]
  },
  {
   "cell_type": "code",
   "execution_count": 58,
   "metadata": {},
   "outputs": [
    {
     "data": {
      "text/plain": [
       "['changed value', 4, 5]"
      ]
     },
     "execution_count": 58,
     "metadata": {},
     "output_type": "execute_result"
    }
   ],
   "source": [
    "slc"
   ]
  },
  {
   "cell_type": "code",
   "execution_count": 59,
   "metadata": {},
   "outputs": [
    {
     "data": {
      "text/plain": [
       "[1, 2, 3, 4, 5, 6, 7, 8, 9, 10]"
      ]
     },
     "execution_count": 59,
     "metadata": {},
     "output_type": "execute_result"
    }
   ],
   "source": [
    "lst"
   ]
  },
  {
   "cell_type": "markdown",
   "metadata": {},
   "source": [
    "We can tell that ```slc``` is a separate object in the heap because changing a value in ```slc``` didn't affect ```lst```."
   ]
  },
  {
   "cell_type": "markdown",
   "metadata": {},
   "source": [
    "We can also use slicing to quickly change multiple values in our original list. For example to change the values in positions 3 through 5, we could do the following:"
   ]
  },
  {
   "cell_type": "code",
   "execution_count": 60,
   "metadata": {},
   "outputs": [],
   "source": [
    "lst[3:5] = ['a', 'b', 'c']"
   ]
  },
  {
   "cell_type": "code",
   "execution_count": 61,
   "metadata": {},
   "outputs": [
    {
     "data": {
      "text/plain": [
       "[1, 2, 3, 'a', 'b', 'c', 6, 7, 8, 9, 10]"
      ]
     },
     "execution_count": 61,
     "metadata": {},
     "output_type": "execute_result"
    }
   ],
   "source": [
    "lst"
   ]
  },
  {
   "cell_type": "markdown",
   "metadata": {},
   "source": [
    "## List exercise\n",
    "(adapted from justlearnpython.com)\n",
    "\n",
    "Given a list, ```lst```, complete the following tasks programatically.\n",
    "\n",
    "a) Create separate lists of strings and numbers\n",
    " \n",
    "b) Sort the strings list in ascending order\n",
    " \n",
    "c) Select the last three strings\n",
    " \n",
    "d) Sort the number list from lowest to highest\n",
    " \n",
    "e) Select the four smallest numbers"
   ]
  },
  {
   "cell_type": "code",
   "execution_count": 62,
   "metadata": {},
   "outputs": [],
   "source": [
    "lst = ['election', 2020, 2016, 'ballot', 'county clerk', 'voting machine', 1988, 1856, 'election judge', 'diebold', 1932]"
   ]
  },
  {
   "cell_type": "code",
   "execution_count": 63,
   "metadata": {},
   "outputs": [],
   "source": [
    "#your code for part a"
   ]
  },
  {
   "cell_type": "code",
   "execution_count": 64,
   "metadata": {},
   "outputs": [],
   "source": [
    "#your code for part b"
   ]
  },
  {
   "cell_type": "code",
   "execution_count": 65,
   "metadata": {},
   "outputs": [],
   "source": [
    "#your code for part c"
   ]
  },
  {
   "cell_type": "code",
   "execution_count": 66,
   "metadata": {},
   "outputs": [],
   "source": [
    "#your code for part d"
   ]
  },
  {
   "cell_type": "code",
   "execution_count": 67,
   "metadata": {},
   "outputs": [],
   "source": [
    "#your code for part e"
   ]
  },
  {
   "cell_type": "markdown",
   "metadata": {},
   "source": [
    "# Dictionaries"
   ]
  },
  {
   "cell_type": "markdown",
   "metadata": {},
   "source": [
    "Similar to lists, Python dictionaries are collections of values. Unlike lists, however, dictionaries are unordered, which means that the order in which we input values to a dictionary won't necessarily be preserved. Furthermore, dictionaries use keys to identify values in the collection as opposed to positions. What are keys? Keys are simply other values.\n",
    "\n",
    "To define a list, we use the following syntax:\n",
    "\n",
    "```\n",
    "my_dictionary = {<key>: <value>,\n",
    "                 <key>: <value>,\n",
    "                 <key>: <value>,\n",
    "                 ...\n",
    "                 ...\n",
    "                 ...\n",
    "                 <key>: <value>}\n",
    "```\n",
    "\n",
    "Below, I'm going to define a list with five states and their number of electoral votes."
   ]
  },
  {
   "cell_type": "code",
   "execution_count": 68,
   "metadata": {},
   "outputs": [],
   "source": [
    "electoral_votes = {'California': 55,\n",
    "                   'Texas': 38,\n",
    "                   'New York': 29,\n",
    "                   'Florida': 29,\n",
    "                   'Illinois': 20}"
   ]
  },
  {
   "cell_type": "markdown",
   "metadata": {},
   "source": [
    "You can mix data types in both the values and keys of a dictionary. For example, the dictionary below is perfectly valid:"
   ]
  },
  {
   "cell_type": "code",
   "execution_count": 69,
   "metadata": {},
   "outputs": [],
   "source": [
    "my_dictionary = {3: 'a',\n",
    "                 2.7: 4,\n",
    "                 'c': None,\n",
    "                 False: 11.01}"
   ]
  },
  {
   "cell_type": "markdown",
   "metadata": {},
   "source": [
    "We can also have the values be more complex data structures, such as lists or other dictionaries. For example, the following dictionary gives the presidential candidate that won each of the five states from earlier in the past three elections."
   ]
  },
  {
   "cell_type": "code",
   "execution_count": 70,
   "metadata": {},
   "outputs": [],
   "source": [
    "presidential_winners = {'California': ['Obama', 'Obama', 'Clinton'],\n",
    "                        'Texas': ['McCain', 'Romney', 'Trump'],\n",
    "                        'New York': ['Obama', 'Obama', 'Clinton'],\n",
    "                        'Florida': ['Obama', 'Obama', 'Trump'],\n",
    "                        'Illinois': ['Obama', 'Obama', 'Clinton']}"
   ]
  },
  {
   "cell_type": "markdown",
   "metadata": {},
   "source": [
    "And this dictionary gives the number of electoral votes a candidate had in 2016 and which candidate won the state."
   ]
  },
  {
   "cell_type": "code",
   "execution_count": 71,
   "metadata": {},
   "outputs": [],
   "source": [
    "results_2016 = {'California': {'electoral_votes': 55,\n",
    "                               'winner': 'Clinton'},\n",
    "                'Texas': {'electoral_votes': 38,\n",
    "                          'winner': 'Trump'},\n",
    "                'New York': {'electoral_votes': 29,\n",
    "                             'winner': 'Clinton'},\n",
    "                'Florida': {'electoral_votes': 29,\n",
    "                            'winner': 'Trump'},\n",
    "                'Illinois': {'electoral_votes': 20,\n",
    "                             'winner': 'Clinton'}}"
   ]
  },
  {
   "cell_type": "markdown",
   "metadata": {},
   "source": [
    "To access a value in a dictionary, we use a similar syntax to accessing a value in a list, but instead of specifying a position, we specify a key. For example, to retrieve the number of electoral votes assigned to New York:"
   ]
  },
  {
   "cell_type": "code",
   "execution_count": 72,
   "metadata": {},
   "outputs": [
    {
     "data": {
      "text/plain": [
       "29"
      ]
     },
     "execution_count": 72,
     "metadata": {},
     "output_type": "execute_result"
    }
   ],
   "source": [
    "electoral_votes['New York']"
   ]
  },
  {
   "cell_type": "markdown",
   "metadata": {},
   "source": [
    "Or to get the results of the 2016 election in Texas:"
   ]
  },
  {
   "cell_type": "code",
   "execution_count": 73,
   "metadata": {},
   "outputs": [
    {
     "data": {
      "text/plain": [
       "{'electoral_votes': 38, 'winner': 'Trump'}"
      ]
     },
     "execution_count": 73,
     "metadata": {},
     "output_type": "execute_result"
    }
   ],
   "source": [
    "results_2016['Texas']"
   ]
  },
  {
   "cell_type": "markdown",
   "metadata": {},
   "source": [
    "In the case where we have nested dictionaries or lists (or other complex data structures), we can also directly access elements of the inner data strucutres. For example, to get the winner of Florida in the 2012 presidential election:"
   ]
  },
  {
   "cell_type": "code",
   "execution_count": 74,
   "metadata": {},
   "outputs": [
    {
     "data": {
      "text/plain": [
       "'Obama'"
      ]
     },
     "execution_count": 74,
     "metadata": {},
     "output_type": "execute_result"
    }
   ],
   "source": [
    "presidential_winners['Florida'][1]"
   ]
  },
  {
   "cell_type": "markdown",
   "metadata": {},
   "source": [
    "Modifying the value associated with a given key in a dictionary is also quite similar to to modifying the value assoicate with a given position in a list. It's projected that before 2024, Illinois will lose one electoral vote, New York will lose two electoral votes, Texas will gain three electoral votes, and Florida will gain two electoral votes . To reflect these changes, we would do the following:"
   ]
  },
  {
   "cell_type": "code",
   "execution_count": 120,
   "metadata": {},
   "outputs": [
    {
     "ename": "KeyError",
     "evalue": "'Illinois'",
     "output_type": "error",
     "traceback": [
      "\u001b[0;31m---------------------------------------------------------------------------\u001b[0m",
      "\u001b[0;31mKeyError\u001b[0m                                  Traceback (most recent call last)",
      "\u001b[0;32m<ipython-input-120-41716d6e4b8b>\u001b[0m in \u001b[0;36m<module>\u001b[0;34m\u001b[0m\n\u001b[0;32m----> 1\u001b[0;31m \u001b[0melectoral_votes\u001b[0m\u001b[0;34m[\u001b[0m\u001b[0;34m'Illinois'\u001b[0m\u001b[0;34m]\u001b[0m \u001b[0;34m=\u001b[0m \u001b[0melectoral_votes\u001b[0m\u001b[0;34m[\u001b[0m\u001b[0;34m'Illinois'\u001b[0m\u001b[0;34m]\u001b[0m \u001b[0;34m-\u001b[0m \u001b[0;36m1\u001b[0m\u001b[0;34m\u001b[0m\u001b[0;34m\u001b[0m\u001b[0m\n\u001b[0m\u001b[1;32m      2\u001b[0m \u001b[0melectoral_votes\u001b[0m\u001b[0;34m[\u001b[0m\u001b[0;34m'New York'\u001b[0m\u001b[0;34m]\u001b[0m \u001b[0;34m=\u001b[0m \u001b[0melectoral_votes\u001b[0m\u001b[0;34m[\u001b[0m\u001b[0;34m'New York'\u001b[0m\u001b[0;34m]\u001b[0m \u001b[0;34m-\u001b[0m \u001b[0;36m2\u001b[0m\u001b[0;34m\u001b[0m\u001b[0;34m\u001b[0m\u001b[0m\n\u001b[1;32m      3\u001b[0m \u001b[0melectoral_votes\u001b[0m\u001b[0;34m[\u001b[0m\u001b[0;34m'Texas'\u001b[0m\u001b[0;34m]\u001b[0m \u001b[0;34m=\u001b[0m \u001b[0melectoral_votes\u001b[0m\u001b[0;34m[\u001b[0m\u001b[0;34m'Texas'\u001b[0m\u001b[0;34m]\u001b[0m \u001b[0;34m+\u001b[0m \u001b[0;36m3\u001b[0m\u001b[0;34m\u001b[0m\u001b[0;34m\u001b[0m\u001b[0m\n\u001b[1;32m      4\u001b[0m \u001b[0melectoral_votes\u001b[0m\u001b[0;34m[\u001b[0m\u001b[0;34m'Florida'\u001b[0m\u001b[0;34m]\u001b[0m \u001b[0;34m=\u001b[0m \u001b[0melectoral_votes\u001b[0m\u001b[0;34m[\u001b[0m\u001b[0;34m'Florida'\u001b[0m\u001b[0;34m]\u001b[0m \u001b[0;34m+\u001b[0m \u001b[0;36m2\u001b[0m\u001b[0;34m\u001b[0m\u001b[0;34m\u001b[0m\u001b[0m\n\u001b[1;32m      5\u001b[0m \u001b[0;34m\u001b[0m\u001b[0m\n",
      "\u001b[0;31mKeyError\u001b[0m: 'Illinois'"
     ]
    }
   ],
   "source": [
    "electoral_votes['Illinois'] = electoral_votes['Illinois'] - 1\n",
    "electoral_votes['New York'] = electoral_votes['New York'] - 2\n",
    "electoral_votes['Texas'] = electoral_votes['Texas'] + 3\n",
    "electoral_votes['Florida'] = electoral_votes['Florida'] + 2\n",
    "\n",
    "electoral_votes"
   ]
  },
  {
   "cell_type": "markdown",
   "metadata": {},
   "source": [
    "Adding new values to our dictionary is simple. We simply need to specify the dictionary name, the new key, and the new value in the following syntax:\n",
    "\n",
    "```\n",
    "<dictionary name>[<new key>] = <new value>\n",
    "```\n",
    "\n",
    "Pennsylvania is also projected to have 19 electoral votes in 2024, so let's add that state to the dictionary."
   ]
  },
  {
   "cell_type": "code",
   "execution_count": 76,
   "metadata": {},
   "outputs": [],
   "source": [
    "electoral_votes['Pennsylvania'] = 19"
   ]
  },
  {
   "cell_type": "code",
   "execution_count": 77,
   "metadata": {},
   "outputs": [
    {
     "data": {
      "text/plain": [
       "{'California': 55,\n",
       " 'Texas': 41,\n",
       " 'New York': 28,\n",
       " 'Florida': 31,\n",
       " 'Illinois': 19,\n",
       " 'Pennsylvania': 19}"
      ]
     },
     "execution_count": 77,
     "metadata": {},
     "output_type": "execute_result"
    }
   ],
   "source": [
    "electoral_votes"
   ]
  },
  {
   "cell_type": "markdown",
   "metadata": {},
   "source": [
    "To remove a key-value pair from a dictionary, there are two available syntaxes, both similar to removing a value from a list.  \n",
    "\n",
    "If we don't need the value for anything else, then we can use ```del```. Let's remove Illinois from our dictionary using ```del```."
   ]
  },
  {
   "cell_type": "code",
   "execution_count": 78,
   "metadata": {},
   "outputs": [],
   "source": [
    "del electoral_votes['Illinois']"
   ]
  },
  {
   "cell_type": "code",
   "execution_count": 79,
   "metadata": {},
   "outputs": [
    {
     "data": {
      "text/plain": [
       "{'California': 55,\n",
       " 'Texas': 41,\n",
       " 'New York': 28,\n",
       " 'Florida': 31,\n",
       " 'Pennsylvania': 19}"
      ]
     },
     "execution_count": 79,
     "metadata": {},
     "output_type": "execute_result"
    }
   ],
   "source": [
    "electoral_votes"
   ]
  },
  {
   "cell_type": "markdown",
   "metadata": {},
   "source": [
    "If we do need the value for something later on, the we can use ```.pop(..)```. Let's remove Pennsylvania from our dictionary using ```.pop(..)``` but store its current value in a variable called ```pa_2024```."
   ]
  },
  {
   "cell_type": "code",
   "execution_count": 80,
   "metadata": {},
   "outputs": [],
   "source": [
    "pa_2024 = electoral_votes.pop('Pennsylvania')"
   ]
  },
  {
   "cell_type": "code",
   "execution_count": 81,
   "metadata": {},
   "outputs": [
    {
     "data": {
      "text/plain": [
       "19"
      ]
     },
     "execution_count": 81,
     "metadata": {},
     "output_type": "execute_result"
    }
   ],
   "source": [
    "pa_2024"
   ]
  },
  {
   "cell_type": "code",
   "execution_count": 82,
   "metadata": {},
   "outputs": [
    {
     "data": {
      "text/plain": [
       "{'California': 55, 'Texas': 41, 'New York': 28, 'Florida': 31}"
      ]
     },
     "execution_count": 82,
     "metadata": {},
     "output_type": "execute_result"
    }
   ],
   "source": [
    "electoral_votes"
   ]
  },
  {
   "cell_type": "markdown",
   "metadata": {},
   "source": [
    "If we ever try and access a key that doesn't exist in the dictionary, Python will throw an error. For example, let's try to get how many electoral votes Alabama has:"
   ]
  },
  {
   "cell_type": "code",
   "execution_count": 83,
   "metadata": {
    "tags": [
     "raises-exception"
    ]
   },
   "outputs": [
    {
     "ename": "KeyError",
     "evalue": "'Alabama'",
     "output_type": "error",
     "traceback": [
      "\u001b[0;31m---------------------------------------------------------------------------\u001b[0m",
      "\u001b[0;31mKeyError\u001b[0m                                  Traceback (most recent call last)",
      "\u001b[0;32m<ipython-input-83-2f3ab38780ba>\u001b[0m in \u001b[0;36m<module>\u001b[0;34m\u001b[0m\n\u001b[0;32m----> 1\u001b[0;31m \u001b[0melectoral_votes\u001b[0m\u001b[0;34m[\u001b[0m\u001b[0;34m'Alabama'\u001b[0m\u001b[0;34m]\u001b[0m\u001b[0;34m\u001b[0m\u001b[0;34m\u001b[0m\u001b[0m\n\u001b[0m",
      "\u001b[0;31mKeyError\u001b[0m: 'Alabama'"
     ]
    }
   ],
   "source": [
    "electoral_votes['Alabama']"
   ]
  },
  {
   "cell_type": "markdown",
   "metadata": {},
   "source": [
    "This issue can cause a real problem if we ever have a dictionary where we're unsure of which keys are/aren't included. Python provides two solutions. First, we can check whether a key is in a dictionary using the ```in``` operator. This operator will return True if the specified value is a key in the dictionary and False if it is not."
   ]
  },
  {
   "cell_type": "code",
   "execution_count": 84,
   "metadata": {},
   "outputs": [
    {
     "data": {
      "text/plain": [
       "False"
      ]
     },
     "execution_count": 84,
     "metadata": {},
     "output_type": "execute_result"
    }
   ],
   "source": [
    "'Alabama' in electoral_votes"
   ]
  },
  {
   "cell_type": "code",
   "execution_count": 85,
   "metadata": {},
   "outputs": [
    {
     "data": {
      "text/plain": [
       "True"
      ]
     },
     "execution_count": 85,
     "metadata": {},
     "output_type": "execute_result"
    }
   ],
   "source": [
    "'Texas' in electoral_votes"
   ]
  },
  {
   "cell_type": "markdown",
   "metadata": {},
   "source": [
    "Python also provides the ```.get(..)``` method. To use the ```.get(...)``` method, you first specify the key you want to attempt to get the value of and then a default value to return if the key doesn't exist in the dictionary.  \n",
    "\n",
    "Let's attempt to get the number of electoral votes for a few states and return \"Unknown\" if the state isn't in the dictionary."
   ]
  },
  {
   "cell_type": "code",
   "execution_count": 86,
   "metadata": {},
   "outputs": [
    {
     "data": {
      "text/plain": [
       "'Unknown'"
      ]
     },
     "execution_count": 86,
     "metadata": {},
     "output_type": "execute_result"
    }
   ],
   "source": [
    "electoral_votes.get(\"Alabama\", \"Unknown\")"
   ]
  },
  {
   "cell_type": "code",
   "execution_count": 87,
   "metadata": {},
   "outputs": [
    {
     "data": {
      "text/plain": [
       "55"
      ]
     },
     "execution_count": 87,
     "metadata": {},
     "output_type": "execute_result"
    }
   ],
   "source": [
    "electoral_votes.get(\"California\", \"Unknown\")"
   ]
  },
  {
   "cell_type": "code",
   "execution_count": 88,
   "metadata": {},
   "outputs": [
    {
     "data": {
      "text/plain": [
       "'Unknown'"
      ]
     },
     "execution_count": 88,
     "metadata": {},
     "output_type": "execute_result"
    }
   ],
   "source": [
    "electoral_votes.get('Arkansas', \"Unknown\")"
   ]
  },
  {
   "cell_type": "markdown",
   "metadata": {},
   "source": [
    "## Iteration\n",
    "\n",
    "There are three ways to iterate over a dictionary, each providing us with different amounts of information.\n",
    "\n",
    "The first way of iterating over a dictionary, ```.keys()```, only shows the keys included in a dictionary. Its syntax is as follows:\n",
    "\n",
    "```\n",
    "for <variable name> in <dictionary name>.keys():\n",
    "    <do something>\n",
    "```\n",
    "\n",
    "Let's print out the names of all the states included in the elecoral votes dictionary."
   ]
  },
  {
   "cell_type": "code",
   "execution_count": 89,
   "metadata": {},
   "outputs": [
    {
     "name": "stdout",
     "output_type": "stream",
     "text": [
      "California\n",
      "Texas\n",
      "New York\n",
      "Florida\n"
     ]
    }
   ],
   "source": [
    "for state in electoral_votes.keys():\n",
    "    print(state)"
   ]
  },
  {
   "cell_type": "markdown",
   "metadata": {},
   "source": [
    "The second way of iterating over a dictionary, ```.values()```, only shows the value associated with each key in the dictionary. Its syntax is as follows:\n",
    "\n",
    "```\n",
    "for <variable name> in <dictionary name>.values():\n",
    "    <do something>\n",
    "```\n",
    "\n",
    "Let's find the maximum number of electoral votes among all the states included in our dictionary."
   ]
  },
  {
   "cell_type": "code",
   "execution_count": 90,
   "metadata": {},
   "outputs": [
    {
     "name": "stdout",
     "output_type": "stream",
     "text": [
      "55\n"
     ]
    }
   ],
   "source": [
    "max_so_far = -1\n",
    "for ev in electoral_votes.values():\n",
    "    if ev > max_so_far:\n",
    "        max_so_far = ev\n",
    "print(max_so_far)"
   ]
  },
  {
   "cell_type": "markdown",
   "metadata": {},
   "source": [
    "The final way of iterating over a dictionary, ```.items()```, shows both each key in the dictionary and its associated value. Its syntax is as follows:\n",
    "\n",
    "```\n",
    "for <key variable name>, <item variable name> in <dictionary name>.items():\n",
    "    <do something>\n",
    "```\n",
    "\n",
    "Let's print out all the states in our dictionary plus the number of electoral votes they are allocated."
   ]
  },
  {
   "cell_type": "code",
   "execution_count": 91,
   "metadata": {},
   "outputs": [
    {
     "name": "stdout",
     "output_type": "stream",
     "text": [
      "California - 55 electoral votes\n",
      "Texas - 41 electoral votes\n",
      "New York - 28 electoral votes\n",
      "Florida - 31 electoral votes\n"
     ]
    }
   ],
   "source": [
    "for state, votes in electoral_votes.items():\n",
    "    print(\"{} - {} electoral votes\".format(state, votes))"
   ]
  },
  {
   "cell_type": "markdown",
   "metadata": {},
   "source": [
    "## Storage in memory\n",
    "\n",
    "The way dictionaries are stored in memory is analogous to how lists are stored in memory (i.e. with a reference to a location in heap memory). As a result, simply setting one dictionary equal to another does not actually create a new dictionary. To do that, we need to use ```.copy()```. This means of storage can become even more complicated when we have nested complex data types, such as lists or dictionaries inside of lists or dictionaries. Oftentimes, drawing a picutre of the references can help make these complicated dependencies easier to grasp.  \n",
    "\n",
    "As a result, the ```is``` and ```==``` equality operators function the same way for dictionares as they do for lists. The ```is``` opeartor returns whether two dictionaries references the same object in heap memory, whereas the ```==``` operator returns whether the two dictionaries (a) have the same keys, and (b) have the same value associated with each key.\n",
    "\n",
    "## Dictionaries Exercise: Presidential What-If\n",
    "\n",
    "Provided below are four dictionaries. Their contents are as follows:\n",
    "- ```obama_won```: each key is the name of a state and each value is a boolean specifying whether or not Barack Obama won the state in 2012\n",
    "- ```electoral_votes1992```: each key is the name of a state and each value is an integer specifying the number of electoral votes allotted to a state in the 1992, 1996, and 2000 presidential elections\n",
    "- ```electoral_votes2004```: each key is the name of a state and each value is an integer specifying the number of electoral votes allotted to a state in the 2004 and 2008 presidential elections\n",
    "- ```electoral_votes2012```: each key is the name of a state and each value is an integer specifying the number of electoral votes allotted to a state in the 2012, 2016, and 2020 presidential elections\n",
    "\n",
    "Your job is determine the number of electoral votes Barack Obama and Mitt Romney would have won under each distribution of electoral votes. You may assume that Mitt Romney won any state that Barack Obama did not, and you may assume that Maine and Nebraska award their electoral votes in a winner-take-all fashion as opposed to using the congressional district method. Furthermore, you may also assume that there are no faithless electors.\n",
    "\n",
    "In the end, your program should print out two dictionaries. One should contain the number of electioral votes Obama would have recieved in 1992, 2004, and 2012, and the other should contain the number of electioral votes Romney would have recieved in 1992, 2004, and 2012.\n",
    "\n",
    "As an extension, you can also consider rewriting your program so that it yields one dictionary with nested dictionaries as values."
   ]
  },
  {
   "cell_type": "code",
   "execution_count": 136,
   "metadata": {},
   "outputs": [],
   "source": [
    "obama_won = {'Alabama': False,\n",
    "  'Alaska': False,\n",
    "  'Arizona': False,\n",
    "  'Arkansas': False,\n",
    "  'California': True,\n",
    "  'Colorado': True,\n",
    "  'Connecticut': True,\n",
    "  'Delaware': True,\n",
    "  'D.C.': True,\n",
    "  'Florida': True,\n",
    "  'Georgia': False,\n",
    "  'Hawaii': True,\n",
    "  'Idaho': False,\n",
    "  'Illinois': True,\n",
    "  'Indiana': False,\n",
    "  'Iowa': True,\n",
    "  'Kansas': False,\n",
    "  'Kentucky': False,\n",
    "  'Louisiana': False,\n",
    "  'Maine': True,\n",
    "  'Maryland': True,\n",
    "  'Massachusetts': True,\n",
    "  'Michigan': True,\n",
    "  'Minnesota': True,\n",
    "  'Mississippi': False,\n",
    "  'Missouri': False,\n",
    "  'Montana': False,\n",
    "  'Nebraska': False,\n",
    "  'Nevada': True,\n",
    "  'New Hampshire': True,\n",
    "  'New Jersey': True,\n",
    "  'New Mexico': True,\n",
    "  'New York': True,\n",
    "  'North Carolina': False,\n",
    "  'North Dakota': False,\n",
    "  'Ohio': True,\n",
    "  'Oklahoma': False,\n",
    "  'Oregon': True,\n",
    "  'Pennsylvania': True,\n",
    "  'Rhode Island': True,\n",
    "  'South Carolina': False,\n",
    "  'South Dakota': False,\n",
    "  'Tennessee': False,\n",
    "  'Texas': False,\n",
    "  'Utah': False,\n",
    "  'Vermont': True,\n",
    "  'Virginia': False,\n",
    "  'Washington': True,\n",
    "  'West Virginia': False,\n",
    "  'Wisconsin': True,\n",
    "  'Wyoming': False}\n",
    "\n",
    "electoral_votes2012 = {'California': 55,\n",
    "  'Texas': 38,\n",
    "  'Florida': 29,\n",
    "  'New York': 29,\n",
    "  'Illinois': 20,\n",
    "  'Pennsylvania': 20,\n",
    "  'Ohio': 18,\n",
    "  'Georgia': 16,\n",
    "  'Michigan': 16,\n",
    "  'North Carolina': 15,\n",
    "  'New Jersey': 14,\n",
    "  'Virginia': 13,\n",
    "  'Washington': 12,\n",
    "  'Arizona': 11,\n",
    "  'Indiana': 11,\n",
    "  'Massachusetts': 11,\n",
    "  'Tennessee': 11,\n",
    "  'Maryland': 10,\n",
    "  'Minnesota': 10,\n",
    "  'Missouri': 10,\n",
    "  'Wisconsin': 10,\n",
    "  'Alabama': 9,\n",
    "  'Colorado': 9,\n",
    "  'South Carolina': 9,\n",
    "  'Kentucky': 8,\n",
    "  'Louisiana': 8,\n",
    "  'Connecticut': 7,\n",
    "  'Oklahoma': 7,\n",
    "  'Oregon': 7,\n",
    "  'Arkansas': 6,\n",
    "  'Iowa': 6,\n",
    "  'Kansas': 6,\n",
    "  'Mississippi': 6,\n",
    "  'Nevada': 6,\n",
    "  'Utah': 6,\n",
    "  'Nebraska': 5,\n",
    "  'New Mexico': 5,\n",
    "  'West Virginia': 5,\n",
    "  'Hawaii': 4,\n",
    "  'Idaho': 4,\n",
    "  'Maine': 4,\n",
    "  'New Hampshire': 4,\n",
    "  'Rhode Island': 4,\n",
    "  'Alaska': 3,\n",
    "  'D.C.': 3,\n",
    "  'Delaware': 3,\n",
    "  'Montana': 3,\n",
    "  'North Dakota': 3,\n",
    "  'South Dakota': 3,\n",
    "  'Vermont': 3,\n",
    "  'Wyoming': 3}\n",
    "\n",
    "electoral_votes2004 = {'California': 55,\n",
    "  'Texas': 34,\n",
    "  'Florida': 27,\n",
    "  'New York': 31,\n",
    "  'Illinois': 21,\n",
    "  'Pennsylvania': 21,\n",
    "  'Ohio': 20,\n",
    "  'Georgia': 15,\n",
    "  'Michigan': 17,\n",
    "  'North Carolina': 15,\n",
    "  'New Jersey': 15,\n",
    "  'Virginia': 13,\n",
    "  'Washington': 11,\n",
    "  'Arizona': 10,\n",
    "  'Indiana': 11,\n",
    "  'Massachusetts': 12,\n",
    "  'Tennessee': 11,\n",
    "  'Maryland': 10,\n",
    "  'Minnesota': 10,\n",
    "  'Missouri': 11,\n",
    "  'Wisconsin': 10,\n",
    "  'Alabama': 9,\n",
    "  'Colorado': 9,\n",
    "  'South Carolina': 8,\n",
    "  'Kentucky': 8,\n",
    "  'Louisiana': 9,\n",
    "  'Connecticut': 7,\n",
    "  'Oklahoma': 7,\n",
    "  'Oregon': 7,\n",
    "  'Arkansas': 6,\n",
    "  'Iowa': 7,\n",
    "  'Kansas': 6,\n",
    "  'Mississippi': 6,\n",
    "  'Nevada': 5,\n",
    "  'Utah': 5,\n",
    "  'Nebraska': 5,\n",
    "  'New Mexico': 5,\n",
    "  'West Virginia': 5,\n",
    "  'Hawaii': 4,\n",
    "  'Idaho': 4,\n",
    "  'Maine': 4,\n",
    "  'New Hampshire': 4,\n",
    "  'Rhode Island': 4,\n",
    "  'Alaska': 3,\n",
    "  'D.C.': 3,\n",
    "  'Delaware': 3,\n",
    "  'Montana': 3,\n",
    "  'North Dakota': 3,\n",
    "  'South Dakota': 3,\n",
    "  'Vermont': 3,\n",
    "  'Wyoming': 3}\n",
    "\n",
    "electoral_votes1992 = {'California': 54,\n",
    "  'Texas': 32,\n",
    "  'Florida': 25,\n",
    "  'New York': 33,\n",
    "  'Illinois': 22,\n",
    "  'Pennsylvania': 23,\n",
    "  'Ohio': 21,\n",
    "  'Georgia': 13,\n",
    "  'Michigan': 18,\n",
    "  'North Carolina': 14,\n",
    "  'New Jersey': 15,\n",
    "  'Virginia': 13,\n",
    "  'Washington': 11,\n",
    "  'Arizona': 8,\n",
    "  'Indiana': 12,\n",
    "  'Massachusetts': 12,\n",
    "  'Tennessee': 11,\n",
    "  'Maryland': 10,\n",
    "  'Minnesota': 10,\n",
    "  'Missouri': 11,\n",
    "  'Wisconsin': 11,\n",
    "  'Alabama': 9,\n",
    "  'Colorado': 8,\n",
    "  'South Carolina': 8,\n",
    "  'Kentucky': 8,\n",
    "  'Louisiana': 9,\n",
    "  'Connecticut': 8,\n",
    "  'Oklahoma': 8,\n",
    "  'Oregon': 7,\n",
    "  'Arkansas': 6,\n",
    "  'Iowa': 7,\n",
    "  'Kansas': 6,\n",
    "  'Mississippi': 7,\n",
    "  'Nevada': 4,\n",
    "  'Utah': 5,\n",
    "  'Nebraska': 5,\n",
    "  'New Mexico': 5,\n",
    "  'West Virginia': 5,\n",
    "  'Hawaii': 4,\n",
    "  'Idaho': 4,\n",
    "  'Maine': 4,\n",
    "  'New Hampshire': 4,\n",
    "  'Rhode Island': 4,\n",
    "  'Alaska': 3,\n",
    "  'D.C.': 3,\n",
    "  'Delaware': 3,\n",
    "  'Montana': 3,\n",
    "  'North Dakota': 3,\n",
    "  'South Dakota': 3,\n",
    "  'Vermont': 3,\n",
    "  'Wyoming': 3}"
   ]
  },
  {
   "cell_type": "code",
   "execution_count": 142,
   "metadata": {},
   "outputs": [],
   "source": [
    "# your solution here"
   ]
  },
  {
   "cell_type": "markdown",
   "metadata": {},
   "source": [
    "## Dictionaries Exercise: Electoral College Shifts\n",
    "\n",
    "As previously mentioned, a number of states are projected to either lose or gain electoral votes before the 2024 elections. \n",
    "\n",
    "Provided below are two dictionaries. Their contents are as follows:\n",
    "- ```electoral_votes_current```: each key is the name of a state and each value is an integer specifying the number of currently electoral votes allotted to a state\n",
    "- ```electoral_votes_changes```: each key is the name of a state and each value is an integer specifying how many electoral votes that state is projected to gain or lose in 2024 (gains are represented as positive integers while losses are represented as negative integers); not all states are in this dictionary becuase not all states are projected to gain or lose electoral votes\n",
    "\n",
    "Your job is to print out a new dictionary specifying how many electoral votes each state is projected to have in the 2024 election without changing the original dictionary.\n"
   ]
  },
  {
   "cell_type": "code",
   "execution_count": 94,
   "metadata": {},
   "outputs": [],
   "source": [
    "electoral_votes_current = {'California': 55,\n",
    "  'Texas': 38,\n",
    "  'Florida': 29,\n",
    "  'New York': 29,\n",
    "  'Illinois': 20,\n",
    "  'Pennsylvania': 20,\n",
    "  'Ohio': 18,\n",
    "  'Georgia': 16,\n",
    "  'Michigan': 16,\n",
    "  'North Carolina': 15,\n",
    "  'New Jersey': 14,\n",
    "  'Virginia': 13,\n",
    "  'Washington': 12,\n",
    "  'Arizona': 11,\n",
    "  'Indiana': 11,\n",
    "  'Massachusetts': 11,\n",
    "  'Tennessee': 11,\n",
    "  'Maryland': 10,\n",
    "  'Minnesota': 10,\n",
    "  'Missouri': 10,\n",
    "  'Wisconsin': 10,\n",
    "  'Alabama': 9,\n",
    "  'Colorado': 9,\n",
    "  'South Carolina': 9,\n",
    "  'Kentucky': 8,\n",
    "  'Louisiana': 8,\n",
    "  'Connecticut': 7,\n",
    "  'Oklahoma': 7,\n",
    "  'Oregon': 7,\n",
    "  'Arkansas': 6,\n",
    "  'Iowa': 6,\n",
    "  'Kansas': 6,\n",
    "  'Mississippi': 6,\n",
    "  'Nevada': 6,\n",
    "  'Utah': 6,\n",
    "  'Nebraska': 5,\n",
    "  'New Mexico': 5,\n",
    "  'West Virginia': 5,\n",
    "  'Hawaii': 4,\n",
    "  'Idaho': 4,\n",
    "  'Maine': 4,\n",
    "  'New Hampshire': 4,\n",
    "  'Rhode Island': 4,\n",
    "  'Alaska': 3,\n",
    "  'D.C.': 3,\n",
    "  'Delaware': 3,\n",
    "  'Montana': 3,\n",
    "  'North Dakota': 3,\n",
    "  'South Dakota': 3,\n",
    "  'Vermont': 3,\n",
    "  'Wyoming': 3}\n",
    "\n",
    "electoral_votes_changes = {\"Oregon\": 1,\n",
    "                           \"Montana\": 1,\n",
    "                           \"Colorado\": 1,\n",
    "                           \"Arizona\": 1,\n",
    "                           \"North Carolina\": 1,\n",
    "                           \"Florida\": 2,\n",
    "                           \"Texas\": 3,\n",
    "                           \"Minnesota\": -1,\n",
    "                           \"Illinois\": -1,\n",
    "                           \"Michigan\": -1,\n",
    "                           \"Ohio\": -1,\n",
    "                           \"Alabama\": -1,\n",
    "                           \"West Virginia\": -1,\n",
    "                           \"Pennsylvania\": -1,\n",
    "                           \"Rhode Island\": -1,\n",
    "                           \"New York\": -2,\n",
    "                           \"New Jersey\": -2}"
   ]
  },
  {
   "cell_type": "code",
   "execution_count": 144,
   "metadata": {},
   "outputs": [],
   "source": [
    "# your solution here"
   ]
  },
  {
   "cell_type": "markdown",
   "metadata": {},
   "source": [
    "# Sets\n",
    "\n",
    "In Python, a set is an unordered collection of values. Unlike dictionaries or lists, items in a set are not identified by a position, a key, or any other identifier. Eliminating identifiers allows Python to automatically store the values in a way that makes it quick to see whether or not a particular value is in a set.  \n",
    "\n",
    "Consider the following list:"
   ]
  },
  {
   "cell_type": "code",
   "execution_count": 96,
   "metadata": {},
   "outputs": [],
   "source": [
    "lst = ['John', 'Jane', 'Julie', 'Jacob', 'Julien']"
   ]
  },
  {
   "cell_type": "markdown",
   "metadata": {},
   "source": [
    "If we want know wheter a given name is in that list, we need to start at the first value and step though the list position by position until we either find the name or hit the end of the list (in some cases, there are quicker ways to search through lists but these require the lists meet certain conditions). With very large lists, this process can become incredibly slow.  \n",
    "\n",
    "With a set, however, Python determines where a value should be stored in memory based on the value itself. Then, if we want to know whether a given value is in a set, all Python has to do is first determine where it would store that value then check whether that value is stored there. This is much, much faster! Instead of checking every item in a collection, Python can check a single location.  \n",
    "\n",
    "To declare a set, we use the following syntax:\n",
    "\n",
    "```\n",
    "<set name> = {<item>, <item>, ..., <item>}\n",
    "```\n",
    "\n",
    "The following line of code declares a set with the five names from above."
   ]
  },
  {
   "cell_type": "code",
   "execution_count": 97,
   "metadata": {},
   "outputs": [],
   "source": [
    "names = {'John', 'Jane', 'Julie', 'Jacob', \"Julien\"}"
   ]
  },
  {
   "cell_type": "markdown",
   "metadata": {},
   "source": [
    "Much like the other data strucutures we have seen so far, sets can contain values of different types."
   ]
  },
  {
   "cell_type": "code",
   "execution_count": 98,
   "metadata": {},
   "outputs": [],
   "source": [
    "my_set = {'string', 32.4, 13, None, True}"
   ]
  },
  {
   "cell_type": "markdown",
   "metadata": {},
   "source": [
    "Since sets don't associate values with positions or keys, it doesn't make sense to think about accessing particular values in a set like we did with lists or dictionaries. Instead, we primarily want to think about adding, removing, and checking what values are included in a set. If we wanted to update a value in a set, we would actually want to think about removing the old value from our set then adding the new value to it.\n",
    "\n",
    "To add a new value to a set, we use the ```.add(..)``` function. Let's add June to our list of names."
   ]
  },
  {
   "cell_type": "code",
   "execution_count": 99,
   "metadata": {},
   "outputs": [
    {
     "data": {
      "text/plain": [
       "{'Jacob', 'Jane', 'John', 'Julie', 'Julien', 'June'}"
      ]
     },
     "execution_count": 99,
     "metadata": {},
     "output_type": "execute_result"
    }
   ],
   "source": [
    "names.add('June')\n",
    "names"
   ]
  },
  {
   "cell_type": "markdown",
   "metadata": {},
   "source": [
    "All the objects in a set must be distinct; this means that a Python set will not contain the same value more than once. To see what happens when we try to add a value that already exists in our list, let's try adding the name June again."
   ]
  },
  {
   "cell_type": "code",
   "execution_count": 100,
   "metadata": {},
   "outputs": [
    {
     "data": {
      "text/plain": [
       "{'Jacob', 'Jane', 'John', 'Julie', 'Julien', 'June'}"
      ]
     },
     "execution_count": 100,
     "metadata": {},
     "output_type": "execute_result"
    }
   ],
   "source": [
    "names.add('June')\n",
    "names"
   ]
  },
  {
   "cell_type": "markdown",
   "metadata": {},
   "source": [
    "As you can see, Python didn't raise an exception, but the contents of our set also didn't change from before.  \n",
    "\n",
    "To remove a value from a set, we use the ```.remove(..)``` function. Let's remove Jacob from our list of names."
   ]
  },
  {
   "cell_type": "code",
   "execution_count": 101,
   "metadata": {},
   "outputs": [
    {
     "data": {
      "text/plain": [
       "{'Jane', 'John', 'Julie', 'Julien', 'June'}"
      ]
     },
     "execution_count": 101,
     "metadata": {},
     "output_type": "execute_result"
    }
   ],
   "source": [
    "names.remove('Jacob')\n",
    "names"
   ]
  },
  {
   "cell_type": "markdown",
   "metadata": {},
   "source": [
    "If we attempt to remove a value that does not exists in our set, Python will throw an error. Let's try to remove the name Jeremy from our list of names."
   ]
  },
  {
   "cell_type": "code",
   "execution_count": 102,
   "metadata": {
    "tags": [
     "raises-exception"
    ]
   },
   "outputs": [
    {
     "ename": "KeyError",
     "evalue": "'Jeremy'",
     "output_type": "error",
     "traceback": [
      "\u001b[0;31m---------------------------------------------------------------------------\u001b[0m",
      "\u001b[0;31mKeyError\u001b[0m                                  Traceback (most recent call last)",
      "\u001b[0;32m<ipython-input-102-eee0f1a2834a>\u001b[0m in \u001b[0;36m<module>\u001b[0;34m\u001b[0m\n\u001b[0;32m----> 1\u001b[0;31m \u001b[0mnames\u001b[0m\u001b[0;34m.\u001b[0m\u001b[0mremove\u001b[0m\u001b[0;34m(\u001b[0m\u001b[0;34m'Jeremy'\u001b[0m\u001b[0;34m)\u001b[0m\u001b[0;34m\u001b[0m\u001b[0;34m\u001b[0m\u001b[0m\n\u001b[0m",
      "\u001b[0;31mKeyError\u001b[0m: 'Jeremy'"
     ]
    }
   ],
   "source": [
    "names.remove('Jeremy')"
   ]
  },
  {
   "cell_type": "markdown",
   "metadata": {},
   "source": [
    "To check whether a particularly value is in a set, we use the ```in``` operator. This will return a boolean telling whether or not the specified value is in the set. For example, let's check whether a few different names are in our set above."
   ]
  },
  {
   "cell_type": "code",
   "execution_count": 103,
   "metadata": {},
   "outputs": [
    {
     "data": {
      "text/plain": [
       "False"
      ]
     },
     "execution_count": 103,
     "metadata": {},
     "output_type": "execute_result"
    }
   ],
   "source": [
    "'Jill' in names"
   ]
  },
  {
   "cell_type": "code",
   "execution_count": 104,
   "metadata": {},
   "outputs": [
    {
     "data": {
      "text/plain": [
       "True"
      ]
     },
     "execution_count": 104,
     "metadata": {},
     "output_type": "execute_result"
    }
   ],
   "source": [
    "'John' in names"
   ]
  },
  {
   "cell_type": "code",
   "execution_count": 105,
   "metadata": {},
   "outputs": [
    {
     "data": {
      "text/plain": [
       "False"
      ]
     },
     "execution_count": 105,
     "metadata": {},
     "output_type": "execute_result"
    }
   ],
   "source": [
    "'Jerry' in names "
   ]
  },
  {
   "cell_type": "markdown",
   "metadata": {},
   "source": [
    "## Useful operators\n",
    "\n",
    "There are also a number of operators in Python that implement matematical set operations. These include:\n",
    "- ```<set 1> | <set 2>``` which returns the union of sets 1 and 2, i.e. all the elements in set 1 or 2\n",
    "- ```<set 1> & <set 2>``` which returns the intersection of sets 1 and 2, i.e. all the elements in both set 1 and set 2\n",
    "- ```<set 1> ^ <set 2>``` which returns the symmetric differents of sets 1 and 2, i.e. all the elements in one of the sets but not another\n",
    "-  ```<set 1> - <set 2>``` which return the different between sets 1 and 2, i.e. all the elements in set 1 but not in set 2\n",
    "- ```<set 1> >= <set 2>``` which returns whether set 1 is a superset of set 2, i.e. if set 1 contains all the elements of set 2\n",
    "- ```<set 1> <= <set 2>``` which returns whether set 1 is a subset of set 2, i.e. if set 2 contains all the elemtns of set 1\n",
    "- ```len(<set 1>)``` which returns the number of elements in set 1 (remember that sets will not contain duplicates)\n",
    "\n",
    "To see these in action, we're going to create two dictionaries, one with the letters a through f in it and another with the letters d through i in it."
   ]
  },
  {
   "cell_type": "code",
   "execution_count": 106,
   "metadata": {},
   "outputs": [],
   "source": [
    "a_to_f = {'a', 'b', 'c', 'd', 'e', 'f'}\n",
    "d_to_i = {'d', 'e','f', 'g', 'h', 'i'}"
   ]
  },
  {
   "cell_type": "code",
   "execution_count": 107,
   "metadata": {},
   "outputs": [
    {
     "data": {
      "text/plain": [
       "{'a', 'b', 'c', 'd', 'e', 'f', 'g', 'h', 'i'}"
      ]
     },
     "execution_count": 107,
     "metadata": {},
     "output_type": "execute_result"
    }
   ],
   "source": [
    "union = a_to_f | d_to_i\n",
    "union"
   ]
  },
  {
   "cell_type": "code",
   "execution_count": 108,
   "metadata": {},
   "outputs": [
    {
     "data": {
      "text/plain": [
       "{'d', 'e', 'f'}"
      ]
     },
     "execution_count": 108,
     "metadata": {},
     "output_type": "execute_result"
    }
   ],
   "source": [
    "intersection = a_to_f & d_to_i\n",
    "intersection"
   ]
  },
  {
   "cell_type": "code",
   "execution_count": 109,
   "metadata": {},
   "outputs": [
    {
     "data": {
      "text/plain": [
       "{'a', 'b', 'c', 'g', 'h', 'i'}"
      ]
     },
     "execution_count": 109,
     "metadata": {},
     "output_type": "execute_result"
    }
   ],
   "source": [
    "symmetric_difference = a_to_f ^ d_to_i\n",
    "symmetric_difference"
   ]
  },
  {
   "cell_type": "code",
   "execution_count": 110,
   "metadata": {},
   "outputs": [
    {
     "data": {
      "text/plain": [
       "{'a', 'b', 'c'}"
      ]
     },
     "execution_count": 110,
     "metadata": {},
     "output_type": "execute_result"
    }
   ],
   "source": [
    "one_diff_two = a_to_f - d_to_i\n",
    "one_diff_two"
   ]
  },
  {
   "cell_type": "code",
   "execution_count": 111,
   "metadata": {},
   "outputs": [
    {
     "data": {
      "text/plain": [
       "{'g', 'h', 'i'}"
      ]
     },
     "execution_count": 111,
     "metadata": {},
     "output_type": "execute_result"
    }
   ],
   "source": [
    "two_diff_one = d_to_i - a_to_f\n",
    "two_diff_one"
   ]
  },
  {
   "cell_type": "code",
   "execution_count": 112,
   "metadata": {},
   "outputs": [
    {
     "data": {
      "text/plain": [
       "False"
      ]
     },
     "execution_count": 112,
     "metadata": {},
     "output_type": "execute_result"
    }
   ],
   "source": [
    "one_super_two = a_to_f >= d_to_i\n",
    "one_super_two"
   ]
  },
  {
   "cell_type": "code",
   "execution_count": 113,
   "metadata": {},
   "outputs": [
    {
     "data": {
      "text/plain": [
       "False"
      ]
     },
     "execution_count": 113,
     "metadata": {},
     "output_type": "execute_result"
    }
   ],
   "source": [
    "one_sub_two = a_to_f <= d_to_i\n",
    "one_sub_two"
   ]
  },
  {
   "cell_type": "code",
   "execution_count": 114,
   "metadata": {},
   "outputs": [
    {
     "data": {
      "text/plain": [
       "6"
      ]
     },
     "execution_count": 114,
     "metadata": {},
     "output_type": "execute_result"
    }
   ],
   "source": [
    "n_a_to_f = len(a_to_f)\n",
    "n_a_to_f"
   ]
  },
  {
   "cell_type": "markdown",
   "metadata": {},
   "source": [
    "## Iterating over sets\n",
    "\n",
    "Since sets only store values and don't use anything else to identify these values, there is only one way to iterate over a set. Its syntax is as follows:\n",
    "\n",
    "```\n",
    "for <variable name> in <set name>:\n",
    "    <do something>\n",
    "```\n",
    "\n",
    "As an example, let's simply print out all the names in our names set from before:"
   ]
  },
  {
   "cell_type": "code",
   "execution_count": 115,
   "metadata": {},
   "outputs": [
    {
     "name": "stdout",
     "output_type": "stream",
     "text": [
      "Julien\n",
      "Jane\n",
      "Julie\n",
      "June\n",
      "John\n"
     ]
    }
   ],
   "source": [
    "for name in names:\n",
    "    print(name)"
   ]
  },
  {
   "cell_type": "markdown",
   "metadata": {},
   "source": [
    "## Storage in memory\n",
    "\n",
    "The way sets are stored in memory is analogous to how dictionaries and lists are stored in memory (i.e. with a reference to a location in heap memory). As a result, simply setting one set equal to another does not actually create a new set. To do that, we need to use ```.copy()```.  \n",
    "\n",
    "As a result, the ```is``` and ```==``` equality operators function the same way for sets as they do for dictionaries and lists. The ```is``` opeartor returns whether two sets reference the same object in heap memory, whereas the ```==``` operator returns whether the two sets have all the same values.\n",
    "\n",
    "## Sets Exercise: Democratic Debate Draw\n",
    "\n",
    "Provided below is one dictionary. Its contents are as follows:\n",
    "- ```qualified_candidates```: the names of all the candidates qualified for the second set of Democratic debates in 2019\n",
    "\n",
    "Your job is to randomly assign all the qualified candidates to debate on either the first or second night. Your program should print out two two new dictionaries, ```night_one``` and ```night_two```, each of which contains all the candidates slated to debate on the specified night. As a wrinkle, recall that no debate can contain more than ten candidates, so if ten candidates have already been assigned to one night, all the remaining candidates should be assigned to the other night.\n",
    "\n",
    "### Hints\n",
    "\n",
    "- A library called ```random``` has been imported to allow you to generate random numbers. Use the line of code labeled below to generate a random integer between one and two assigned to a variable named ```rand_int```. If you include this line of code in a for loop, it will generate a new random number each time through the loop.\n",
    "- To create an empty dictionary with the name ```my_empty_dict```, use the following syntax ```my_empty_dict = set()```."
   ]
  },
  {
   "cell_type": "code",
   "execution_count": 116,
   "metadata": {
    "tags": [
     "remove-cell"
    ]
   },
   "outputs": [],
   "source": [
    "import random"
   ]
  },
  {
   "cell_type": "code",
   "execution_count": 117,
   "metadata": {},
   "outputs": [],
   "source": [
    "#use this line to generate random integers between one and two\n",
    "rand_int = random.randint(1, 2)"
   ]
  },
  {
   "cell_type": "code",
   "execution_count": 118,
   "metadata": {},
   "outputs": [],
   "source": [
    "qualified_candidates = {\"Joe Biden\", \"Elizabeth Warren\", \"Kamala Harris\", \"Bernie Sanders\", \"Pete Buttigieg\", \"Beto O’Rourke\", \"Cory Booker\", \"Amy Klobuchar\", \"Julián Castro\", \"Kirsten Gillibrand\", \"Jay Inslee\", \"Tulsi Gabbard\", \"Michael Bennet\", \"John Hickenlooper\", \"Bill de Blasio\", \"Tim Ryan\", \"John Delaney\", \"Andrew Yang\", \"and Marianne Williamson\", \"Steve Bullock\"}"
   ]
  },
  {
   "cell_type": "code",
   "execution_count": 146,
   "metadata": {},
   "outputs": [],
   "source": [
    "# your solution here"
   ]
  }
 ],
 "metadata": {
  "celltoolbar": "Tags",
  "kernelspec": {
   "display_name": "Python 3",
   "language": "python",
   "name": "python3"
  },
  "language_info": {
   "codemirror_mode": {
    "name": "ipython",
    "version": 3
   },
   "file_extension": ".py",
   "mimetype": "text/x-python",
   "name": "python",
   "nbconvert_exporter": "python",
   "pygments_lexer": "ipython3",
   "version": "3.7.3"
  }
 },
 "nbformat": 4,
 "nbformat_minor": 2
}
