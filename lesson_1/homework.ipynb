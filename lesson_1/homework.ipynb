{
 "cells": [
  {
   "cell_type": "markdown",
   "metadata": {},
   "source": [
    "## I'm just a bill...or am I?\n",
    "\n",
    "(adapted from Rogers & Sotomayor)\n",
    "\n",
    "In a simplified world, a bill needs to meet the following requirements to become a law:\n",
    "- Pass the U.S. Senate (defined as having a majority vote in favor of the bill), pass the U.S. House (defined as having a majority vote in favor of the bill), and be signed into law by the President, or\n",
    "- Pass the U.S. Senate (defined as having a majority vote in favor of the bill), pass the U.S. House (defined as having a majority of vote in favor of the bill), be vetoed by the President, and then have more than 2/3rds of the Senate and 2/3 or the House vote in favor of the bill\n",
    "\n",
    "Your job is to write a single expression to determine whether a bill will become a law given the following constants:"
   ]
  },
  {
   "cell_type": "code",
   "execution_count": 1,
   "metadata": {},
   "outputs": [],
   "source": [
    "NUM_SENATORS = 100\n",
    "NUM_REPS = 435"
   ]
  },
  {
   "cell_type": "markdown",
   "metadata": {},
   "source": [
    "And the following variables:"
   ]
  },
  {
   "cell_type": "code",
   "execution_count": 3,
   "metadata": {},
   "outputs": [],
   "source": [
    "senate_yeas = 53\n",
    "house_yeas = 300\n",
    "president_approves = False"
   ]
  },
  {
   "cell_type": "code",
   "execution_count": 5,
   "metadata": {},
   "outputs": [],
   "source": [
    "# Input your expression on the next line"
   ]
  },
  {
   "cell_type": "markdown",
   "metadata": {},
   "source": [
    "Now, let's change the values of the variables and re-run your expression by copying it into the second cell below:"
   ]
  },
  {
   "cell_type": "code",
   "execution_count": null,
   "metadata": {},
   "outputs": [],
   "source": [
    "senate_yeas = 68\n",
    "house_yeas = 341\n",
    "president_approves = False"
   ]
  },
  {
   "cell_type": "code",
   "execution_count": 6,
   "metadata": {},
   "outputs": [],
   "source": [
    "# Input your expression on the next line"
   ]
  },
  {
   "cell_type": "markdown",
   "metadata": {},
   "source": [
    "Let's try two more:"
   ]
  },
  {
   "cell_type": "code",
   "execution_count": null,
   "metadata": {},
   "outputs": [],
   "source": [
    "senate_yeas = 49\n",
    "house_yeas = 274\n",
    "president_approves = True"
   ]
  },
  {
   "cell_type": "code",
   "execution_count": null,
   "metadata": {},
   "outputs": [],
   "source": [
    "# Input your expression on the next line"
   ]
  },
  {
   "cell_type": "code",
   "execution_count": null,
   "metadata": {},
   "outputs": [],
   "source": [
    "senate_yeas = 51\n",
    "house_yeas = 274\n",
    "president_approves = True"
   ]
  },
  {
   "cell_type": "code",
   "execution_count": null,
   "metadata": {},
   "outputs": [],
   "source": [
    "# Input your expression on the next line"
   ]
  },
  {
   "cell_type": "markdown",
   "metadata": {},
   "source": [
    "Your expression should have produced True for examples two and four, and False for examples one and three."
   ]
  },
  {
   "cell_type": "code",
   "execution_count": null,
   "metadata": {},
   "outputs": [],
   "source": []
  }
 ],
 "metadata": {
  "kernelspec": {
   "display_name": "Python 3",
   "language": "python",
   "name": "python3"
  },
  "language_info": {
   "codemirror_mode": {
    "name": "ipython",
    "version": 3
   },
   "file_extension": ".py",
   "mimetype": "text/x-python",
   "name": "python",
   "nbconvert_exporter": "python",
   "pygments_lexer": "ipython3",
   "version": "3.7.3"
  }
 },
 "nbformat": 4,
 "nbformat_minor": 2
}
