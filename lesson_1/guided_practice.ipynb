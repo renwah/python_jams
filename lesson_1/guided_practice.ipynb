{
 "cells": [
  {
   "cell_type": "markdown",
   "metadata": {},
   "source": [
    "# Lesson 1: Guided Practice  \n",
    "\n",
    "Key learning results:\n",
    "- I understand the how to run Python code from the command line, in the interpreter, and in an Jupyter notebook.\n",
    "- I can declare a variable.\n",
    "- I feel comfortable writing various expressions.\n",
    "- I understand \"Pythonic\" code organization.\n",
    "- I recall the syntax for basic conditional flow statements."
   ]
  },
  {
   "cell_type": "markdown",
   "metadata": {},
   "source": [
    "## Where are we?: A brief introduction to running Python code\n",
    "\n",
    "Before we actually start writing code, we need to talk about what we do with the code we're writing. Broadly, there are two ways of running Python code: line-by-line (a.k.a. interactively) or from a file. \n",
    "\n",
    "### Running code from file\n",
    "Running a file in Python is as simple as openning up a terminal/command line window, navigating to the folder containing the file, then entering the following command:\n",
    "\n",
    "```\n",
    "python3 <file_name>\n",
    "```\n",
    "\n",
    "If you only have one version of Python installed or if the default version on Python on your system is Python 3, then it is also sufficient to use this command:\n",
    "\n",
    "```\n",
    "python <file_name>\n",
    "```\n",
    "\n",
    "Using the first command, however, ensures that our code is being run in Python 3.X and not Python 2.X. While Python 3.X is the most up-to-date, Python 2.X remains popular, and the two versions aren't perfectly cross compatible. This issue likely won't come up until you start exploring different, more advanced packages available in Python.\n",
    "\n",
    "If you feel uncomfortable navigating your computer from the terminal/command line, I suggest [working through this short tutorial.](https://blog.teamtreehouse.com/introduction-to-the-mac-os-x-command-line) You don't need to become an expert, but a basic understanding of how to interface with your computer through the command line.\n",
    "\n",
    "Programs don't by default have a command line interface, and though building one out is fairly simple, it won't be covered in any of the Python Jams. Still, it's good to be aware of how to run programs from the command line.\n",
    "\n",
    "### Running code interactively\n",
    "\n",
    "Throughout these sessions, we'll be running code interactively either through IPython or through a Jupyter notebook. Both allow us to work through code line by line, evaluating our progress as we work. \n",
    "\n",
    "#### IPython\n",
    "\n",
    "To access IPython, open up the terminal/command line and run this command:\n",
    "\n",
    "```\n",
    "ipython3\n",
    "```\n",
    "\n",
    "You should see the following text appear on screen:\n",
    "\n",
    "```\n",
    "Python 3.7.3 (default, Mar 27 2019, 16:54:48) \n",
    "Type 'copyright', 'credits' or 'license' for more information\n",
    "IPython 7.5.0 -- An enhanced Interactive Python. Type '?' for help.\n",
    "```\n",
    "\n",
    "This text is followed by a prompt where you can type in Python code and see its results.\n",
    "\n",
    "#### Your first program\n",
    "\n",
    "Now that you're ready to write Python code, lets print out a simple Hello World statement. In Python, this requires a single line of code:\n",
    "\n",
    "```\n",
    "print(\"Hello, world!\")\n",
    "```\n",
    "\n",
    "Type this into the IPython window we just opened, and you should see the text ```Hello, world!``` appear below where you just typed!\n",
    "\n",
    "#### Jupyter notebooks\n",
    "\n",
    "Another place where we can run code iteractively is a Jupyter notebook. Indeed, this document you're reading right now is a Jupyter notebook. Running code in a Jupyter notebook allows you to combine text (in Markdown), plots, and other media alongside your code. This ability can be helpful if you're using Python to produce an analysis you intend to send to others or if you would like to explain the code you're writing as you're writing it.\n",
    "\n",
    "Below this text, there is an empty \"code\" cell where you can write and run Python code within this document. Try typing our Hello, World! statement in that cell and then run it by either pressing Shift + Return or pressing the run button in the navigation bar."
   ]
  },
  {
   "cell_type": "code",
   "execution_count": 1,
   "metadata": {},
   "outputs": [
    {
     "name": "stdout",
     "output_type": "stream",
     "text": [
      "Hello, World!\n"
     ]
    }
   ],
   "source": [
    "print('Hello, World!')"
   ]
  },
  {
   "cell_type": "markdown",
   "metadata": {},
   "source": [
    "The majority of Python Jams will be in Jupyter notebooks, however, you should also try running some code in IPython so that you feel comfortable with it. When working by yourself on a project, you'll likely find it easier to work in IPython than in Jupyter notebooks."
   ]
  },
  {
   "cell_type": "markdown",
   "metadata": {},
   "source": []
  }
 ],
 "metadata": {
  "kernelspec": {
   "display_name": "Python 3",
   "language": "python",
   "name": "python3"
  },
  "language_info": {
   "codemirror_mode": {
    "name": "ipython",
    "version": 3
   },
   "file_extension": ".py",
   "mimetype": "text/x-python",
   "name": "python",
   "nbconvert_exporter": "python",
   "pygments_lexer": "ipython3",
   "version": "3.7.3"
  }
 },
 "nbformat": 4,
 "nbformat_minor": 2
}
